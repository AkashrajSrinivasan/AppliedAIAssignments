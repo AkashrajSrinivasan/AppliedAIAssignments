{
 "cells": [
  {
   "cell_type": "markdown",
   "metadata": {
    "id": "3sNKZq4XrXQh"
   },
   "source": [
    "# <font color='red'><b>Bootstrap assignment</b> </font>"
   ]
  },
  {
   "cell_type": "markdown",
   "metadata": {
    "id": "RAHap1Z3FZC-"
   },
   "source": [
    "<b>There will be some functions that start with the word \"grader\" ex: grader_sampples(), grader_30().. etc, you should not change those function definition.\n",
    "\n",
    "Every Grader function has to return True.</b>"
   ]
  },
  {
   "cell_type": "markdown",
   "metadata": {
    "id": "cuxBq_bvrwh2"
   },
   "source": [
    "<font color='blue'> <b>Importing packages</b> </font>"
   ]
  },
  {
   "cell_type": "code",
   "execution_count": 1,
   "metadata": {
    "id": "m6ag91ijrQOs"
   },
   "outputs": [],
   "source": [
    "import numpy as np # importing numpy for numerical computation\n",
    "from sklearn.datasets import load_boston # here we are using sklearn's boston dataset\n",
    "from sklearn.metrics import mean_squared_error # importing mean_squared_error metric\n",
    "from statistics import median\n",
    "from sklearn.tree import DecisionTreeRegressor\n",
    "import random\n",
    "from prettytable import PrettyTable\n"
   ]
  },
  {
   "cell_type": "code",
   "execution_count": 2,
   "metadata": {
    "id": "CcHOsONTt1K_"
   },
   "outputs": [],
   "source": [
    "boston = load_boston()\n",
    "x=boston.data #independent variables\n",
    "y=boston.target #target variable"
   ]
  },
  {
   "cell_type": "code",
   "execution_count": 3,
   "metadata": {
    "colab": {
     "base_uri": "https://localhost:8080/"
    },
    "id": "pc1htEFYuLRj",
    "outputId": "476203bf-1162-4a14-c1bc-061e28b7023d"
   },
   "outputs": [
    {
     "data": {
      "text/plain": [
       "(506, 13)"
      ]
     },
     "execution_count": 3,
     "metadata": {},
     "output_type": "execute_result"
    }
   ],
   "source": [
    "x.shape"
   ]
  },
  {
   "cell_type": "code",
   "execution_count": 4,
   "metadata": {
    "colab": {
     "base_uri": "https://localhost:8080/"
    },
    "id": "kQle3T_wuOa3",
    "outputId": "e0028e46-beeb-4e8a-9398-0cd748a55a8d"
   },
   "outputs": [
    {
     "data": {
      "text/plain": [
       "array([[6.3200e-03, 1.8000e+01, 2.3100e+00, 0.0000e+00, 5.3800e-01,\n",
       "        6.5750e+00, 6.5200e+01, 4.0900e+00, 1.0000e+00, 2.9600e+02,\n",
       "        1.5300e+01, 3.9690e+02, 4.9800e+00],\n",
       "       [2.7310e-02, 0.0000e+00, 7.0700e+00, 0.0000e+00, 4.6900e-01,\n",
       "        6.4210e+00, 7.8900e+01, 4.9671e+00, 2.0000e+00, 2.4200e+02,\n",
       "        1.7800e+01, 3.9690e+02, 9.1400e+00],\n",
       "       [2.7290e-02, 0.0000e+00, 7.0700e+00, 0.0000e+00, 4.6900e-01,\n",
       "        7.1850e+00, 6.1100e+01, 4.9671e+00, 2.0000e+00, 2.4200e+02,\n",
       "        1.7800e+01, 3.9283e+02, 4.0300e+00],\n",
       "       [3.2370e-02, 0.0000e+00, 2.1800e+00, 0.0000e+00, 4.5800e-01,\n",
       "        6.9980e+00, 4.5800e+01, 6.0622e+00, 3.0000e+00, 2.2200e+02,\n",
       "        1.8700e+01, 3.9463e+02, 2.9400e+00],\n",
       "       [6.9050e-02, 0.0000e+00, 2.1800e+00, 0.0000e+00, 4.5800e-01,\n",
       "        7.1470e+00, 5.4200e+01, 6.0622e+00, 3.0000e+00, 2.2200e+02,\n",
       "        1.8700e+01, 3.9690e+02, 5.3300e+00]])"
      ]
     },
     "execution_count": 4,
     "metadata": {},
     "output_type": "execute_result"
    }
   ],
   "source": [
    "x[:5]"
   ]
  },
  {
   "cell_type": "markdown",
   "metadata": {
    "id": "AEa_HqRZloH4"
   },
   "source": [
    "## <font color='red'><b>Task 1</b></font>"
   ]
  },
  {
   "cell_type": "markdown",
   "metadata": {
    "id": "YQ5q8IxHNRk3"
   },
   "source": [
    "<font color='red'> <b>Step - 1</b></font>"
   ]
  },
  {
   "cell_type": "markdown",
   "metadata": {
    "id": "GJCFCaOzl7Mr"
   },
   "source": [
    "*  <font color='blue'><b>Creating samples</b></font><br>\n",
    "    <b> Randomly create 30 samples from the whole boston data points</b>\n",
    "    *  Creating each sample: Consider any random 303(60% of 506) data points from whole data set and then replicate any 203 points from the sampled points\n",
    "    \n",
    "     For better understanding of this procedure lets check this examples, assume we have 10 data points [1,2,3,4,5,6,7,8,9,10], first we take 6 data points randomly , consider we have selected [4, 5, 7, 8, 9, 3] now we will replicate 4 points from [4, 5, 7, 8, 9, 3], consder they are [5, 8, 3,7] so our final sample will be [4, 5, 7, 8, 9, 3, 5, 8, 3,7]\n",
    "* <font color='blue'><b> Create 30 samples </b></font>\n",
    "    *  Note that as a part of the Bagging when you are taking the random samples <b>make sure each of the sample will have different set of columns</b><br>\n",
    "Ex: Assume we have 10 columns[1 ,2 ,3 ,4 ,5 ,6 ,7 ,8 ,9 ,10] for the first sample we will select [3, 4, 5, 9, 1, 2] and for the second sample  [7, 9, 1, 4, 5, 6, 2] and so on...\n",
    "Make sure each sample will have atleast 3 feautres/columns/attributes"
   ]
  },
  {
   "cell_type": "markdown",
   "metadata": {
    "id": "zUqFEBSvNjCa"
   },
   "source": [
    "<font color='red'><b>Step - 2 </b></font>"
   ]
  },
  {
   "cell_type": "markdown",
   "metadata": {
    "id": "uqi9AhCYNq3Z"
   },
   "source": [
    "<font color='blue'><b>Building High Variance Models on each of the sample and finding train MSE value</b></font>"
   ]
  },
  {
   "cell_type": "markdown",
   "metadata": {
    "id": "-lLBnZHXOFln"
   },
   "source": [
    "*  Build a regression trees on each of 30 samples.\n",
    "*  Computed the predicted values of each data point(506 data points) in your corpus.\n",
    "*  Predicted house price of $i^{th}$ data point $y^{i}_{pred} =  \\frac{1}{30}\\sum_{k=1}^{30}(\\text{predicted value of } x^{i} \\text{ with } k^{th} \\text{ model})$\n",
    "*  Now calculate the $MSE =  \\frac{1}{506}\\sum_{i=1}^{506}(y^{i} - y^{i}_{pred})^{2}$"
   ]
  },
  {
   "cell_type": "markdown",
   "metadata": {
    "id": "Kls23JLnSN23"
   },
   "source": [
    "<font color='red'> <b>Step - 3 </b></font>"
   ]
  },
  {
   "cell_type": "markdown",
   "metadata": {
    "id": "rz2GchkGSWnh"
   },
   "source": [
    "*  <font color='blue'><b>Calculating the OOB score </b></font>"
   ]
  },
  {
   "cell_type": "markdown",
   "metadata": {
    "id": "DGHkVV2kSibm"
   },
   "source": [
    "*  Predicted house price of $i^{th}$ data point $y^{i}_{pred} =  \\frac{1}{k}\\sum_{\\text{k= model which was buit on samples not included } x^{i}}(\\text{predicted value of } x^{i} \\text{ with } k^{th} \\text{ model})$.\n",
    "*  Now calculate the $OOB Score =  \\frac{1}{506}\\sum_{i=1}^{506}(y^{i} - y^{i}_{pred})^{2}$."
   ]
  },
  {
   "cell_type": "markdown",
   "metadata": {
    "id": "RK860ocxTyoz"
   },
   "source": [
    "# <font color='red'><b>Task 2</b></font>"
   ]
  },
  {
   "cell_type": "markdown",
   "metadata": {
    "id": "1dme-N6TUCrY"
   },
   "source": [
    "*  <font color='blue'><b>Computing CI of OOB Score and Train MSE</b></font>\n",
    "  *   Repeat Task 1 for 35 times, and for each iteration store the Train MSE and OOB score </li>\n",
    "<li> After this we will have 35 Train MSE values and 35 OOB scores </li>\n",
    "<li> using these 35 values (assume like a sample) find the confidence intravels of MSE and OOB Score </li>\n",
    "<li> you need to report CI of MSE and CI of OOB Score </li>\n",
    "<li> Note: Refer the Central_Limit_theorem.ipynb to check how to find the confidence intravel</li>\n",
    "</ol>"
   ]
  },
  {
   "cell_type": "markdown",
   "metadata": {
    "id": "O6UcH1x9Uwrj"
   },
   "source": [
    "# <font color='red'><b>Task 3</b></font>"
   ]
  },
  {
   "cell_type": "markdown",
   "metadata": {
    "id": "bOC_AgsLU7OH"
   },
   "source": [
    "*  <font color='blue'><b>Given a single query point predict the price of house.</b></font>"
   ]
  },
  {
   "cell_type": "markdown",
   "metadata": {
    "id": "HYs5jSFdVILe"
   },
   "source": [
    "Consider xq= [0.18,20.0,5.00,0.0,0.421,5.60,72.2,7.95,7.0,30.0,19.1,372.13,18.60] \n",
    "Predict the house price for this point as mentioned in the step 2 of Task 1."
   ]
  },
  {
   "cell_type": "markdown",
   "metadata": {
    "id": "_6gxZEsFWm-8"
   },
   "source": [
    "<br><br><br>"
   ]
  },
  {
   "cell_type": "markdown",
   "metadata": {
    "id": "V2fHTdS_zpgG"
   },
   "source": [
    "# <font color='blue'> <b>Task - 1</b></font>"
   ]
  },
  {
   "cell_type": "markdown",
   "metadata": {
    "id": "e0yGBuryOwHz"
   },
   "source": [
    "<font color='blue'><b>Step - 1</b></font>"
   ]
  },
  {
   "cell_type": "markdown",
   "metadata": {
    "id": "lJXX8vf3z073"
   },
   "source": [
    "*  <font color='blue'> <b>Creating samples</b></font>"
   ]
  },
  {
   "cell_type": "markdown",
   "metadata": {
    "id": "CSVaWG1F4uCZ"
   },
   "source": [
    "<font color='Orange'><b>Algorithm</b></font>\n",
    "\n",
    "![alt text](https://i.imgur.com/BTVYXQ1.jpg/)"
   ]
  },
  {
   "cell_type": "markdown",
   "metadata": {
    "id": "f_oWoN97BhDY"
   },
   "source": [
    "*  <font color='blue'><b> Write code for generating samples</b></font>"
   ]
  },
  {
   "cell_type": "code",
   "execution_count": 5,
   "metadata": {
    "id": "Ph_6D2SDzz7F"
   },
   "outputs": [],
   "source": [
    "def generating_samples(input_data, target_data):\n",
    "\n",
    "    '''In this function, we will write code for generating 30 samples '''\n",
    "\n",
    "    selecting_rows=np.random.choice(len(input_data),303,replace=False)\n",
    "    replacing_rows=np.random.choice(selecting_rows,203,replace=False)\n",
    "  \n",
    "    #Creating column samples\n",
    "    select_col_no = random.randint(3, 13)\n",
    "    selecting_columns = np.array(random.sample(range(0, 13), select_col_no ))\n",
    "    \n",
    "    \n",
    "    sample_data = input_data[selecting_rows[:, None], selecting_columns]\n",
    "    target_of_sample_data = target_data[selecting_rows]\n",
    "\n",
    "    #Replicating data\n",
    "\n",
    "    replicated_sample_data=input_data[replacing_rows[:,None],selecting_columns]\n",
    "    target_of_replicated_sample_data = target_data[replacing_rows]\n",
    "\n",
    "    #Concatenating Data\n",
    "\n",
    "    final_sample_data = np.vstack((sample_data, replicated_sample_data))\n",
    "    final_target_data = np.vstack((target_of_sample_data.reshape(-1, 1), target_of_replicated_sample_data.reshape(-1, 1)))\n",
    "\n",
    "    return final_sample_data,final_target_data,selecting_rows,selecting_columns\n"
   ]
  },
  {
   "cell_type": "markdown",
   "metadata": {
    "id": "MivEQFlm7iOg"
   },
   "source": [
    "<font color='cyan'> <b> Grader function - 1 </b> </fongt>"
   ]
  },
  {
   "cell_type": "code",
   "execution_count": 6,
   "metadata": {
    "colab": {
     "base_uri": "https://localhost:8080/"
    },
    "id": "AVvuhNzm7uld",
    "outputId": "e23254dc-af71-47c7-ba69-be63ad6d5917"
   },
   "outputs": [
    {
     "data": {
      "text/plain": [
       "True"
      ]
     },
     "execution_count": 6,
     "metadata": {},
     "output_type": "execute_result"
    }
   ],
   "source": [
    "def grader_samples(a,b,c,d):\n",
    "    length = (len(a)==506  and len(b)==506)\n",
    "    sampled = (len(a)-len(set([str(i) for i in a]))==203)\n",
    "    rows_length = (len(c)==303)\n",
    "    column_length= (len(d)>=3)\n",
    "    assert(length and sampled and rows_length and column_length)\n",
    "    return True\n",
    "a,b,c,d = generating_samples(x, y)\n",
    "grader_samples(a,b,c,d)"
   ]
  },
  {
   "cell_type": "markdown",
   "metadata": {
    "id": "b4LSsmn4Jn2_"
   },
   "source": [
    "*  <font color='blue'> <b>Create 30 samples </b>"
   ]
  },
  {
   "cell_type": "markdown",
   "metadata": {
    "id": "3ec7MN6sL2BZ"
   },
   "source": [
    "![alt text](https://i.imgur.com/p8eZaWL.jpg)"
   ]
  },
  {
   "cell_type": "code",
   "execution_count": 7,
   "metadata": {
    "id": "XXlKWjCcBvTk"
   },
   "outputs": [],
   "source": [
    "def gen_30_samples(x,y):\n",
    "# Use generating_samples function to create 30 samples \n",
    "# store these created samples in a list\n",
    "    list_input_data =[]\n",
    "    list_output_data =[]\n",
    "    list_selected_row= []\n",
    "    list_selected_columns=[]\n",
    "\n",
    "    for i in range(0,30):\n",
    "        a,b,c,d = generating_samples(x,y)\n",
    "        list_input_data.append(a)\n",
    "        list_output_data.append(b)\n",
    "        list_selected_row.append(c)\n",
    "        list_selected_columns.append(d)\n",
    "\n",
    "    return list_input_data,list_output_data,list_selected_row,list_selected_columns\n",
    "\n"
   ]
  },
  {
   "cell_type": "code",
   "execution_count": 8,
   "metadata": {
    "id": "g3YK1oMhCdRR"
   },
   "outputs": [],
   "source": [
    "list_input_data,list_output_data,list_selected_row,list_selected_columns=gen_30_samples(x,y)"
   ]
  },
  {
   "cell_type": "markdown",
   "metadata": {
    "id": "MXUz9VFiMQkh"
   },
   "source": [
    "<font color='cyan'> <b>Grader function - 2 </b></font>"
   ]
  },
  {
   "cell_type": "code",
   "execution_count": 9,
   "metadata": {
    "colab": {
     "base_uri": "https://localhost:8080/"
    },
    "id": "hCvIq8NuMWOC",
    "outputId": "d1ca232c-1eab-4a98-a173-719d9508d27f"
   },
   "outputs": [
    {
     "data": {
      "text/plain": [
       "True"
      ]
     },
     "execution_count": 9,
     "metadata": {},
     "output_type": "execute_result"
    }
   ],
   "source": [
    "def grader_30(a):\n",
    "    assert(len(a)==30 and len(a[0])==506)\n",
    "    return True\n",
    "grader_30(list_input_data)"
   ]
  },
  {
   "cell_type": "markdown",
   "metadata": {
    "id": "7Pv-mkZkO6dh"
   },
   "source": [
    "<br>"
   ]
  },
  {
   "cell_type": "markdown",
   "metadata": {
    "id": "whaHCPB0O8qF"
   },
   "source": [
    "<font color='red'><b>Step - 2 </b></font>"
   ]
  },
  {
   "cell_type": "markdown",
   "metadata": {
    "id": "XBy4zXSWPtU8"
   },
   "source": [
    "<font color='orange'><b>Flowchart for building tree</b></font>"
   ]
  },
  {
   "cell_type": "markdown",
   "metadata": {
    "id": "5xvH06HPQBdP"
   },
   "source": [
    "![alt text](https://i.imgur.com/pcXfSmp.png)"
   ]
  },
  {
   "cell_type": "markdown",
   "metadata": {
    "id": "WRwPO_uHQjul"
   },
   "source": [
    "*  <font color='blue'><b> Write code for building regression trees</b></font>"
   ]
  },
  {
   "cell_type": "code",
   "execution_count": 140,
   "metadata": {
    "id": "YWQp6tRwMthq"
   },
   "outputs": [],
   "source": [
    "def build_reg_trees(list_input_data,list_output_data):\n",
    "\n",
    "    dt_reg_model = []\n",
    "    y_predict = []\n",
    "    for i in range(30):\n",
    "        model = DecisionTreeRegressor(max_depth=None)\n",
    "        model.fit(list_input_data[i],list_output_data[i])\n",
    "        dt_reg_model.append(model)\n",
    "\n",
    "    for i in range(30):\n",
    "        predict_model = dt_reg_model[i].predict(x[:,list_selected_columns[i]])\n",
    "        y_predict.append(predict_model)\n",
    "\n",
    "    y_predict = np.array(y_predict)\n",
    "    y_predict = y_predict.transpose()\n",
    "\n",
    "    return y_predict,dt_reg_model\n",
    "\n"
   ]
  },
  {
   "cell_type": "code",
   "execution_count": 115,
   "metadata": {
    "colab": {
     "base_uri": "https://localhost:8080/"
    },
    "id": "vmRyGm4YDirg",
    "outputId": "0f6feb90-09b1-485d-98e4-047454b04079"
   },
   "outputs": [
    {
     "name": "stdout",
     "output_type": "stream",
     "text": [
      "[[24.  16.5 31.2 ... 22.  24.  27.1]\n",
      " [22.  19.9 21.6 ... 25.3 21.6 21.6]\n",
      " [34.7 34.7 34.7 ... 34.7 34.7 28.7]\n",
      " ...\n",
      " [23.9 23.9 23.9 ... 23.6 23.9 29.8]\n",
      " [22.  25.  22.  ... 22.  22.  22. ]\n",
      " [11.9 20.6 11.9 ... 11.9 11.9 11.9]]\n"
     ]
    }
   ],
   "source": [
    "y_predict,dt_reg_model = build_reg_trees(list_input_data,list_output_data)\n",
    "print(y_predict)"
   ]
  },
  {
   "cell_type": "markdown",
   "metadata": {
    "id": "21j8BKfAQ1U8"
   },
   "source": [
    "<font color='orange'><b>Flowchart for calculating MSE </b></font>"
   ]
  },
  {
   "cell_type": "markdown",
   "metadata": {
    "id": "8Q0mTBD2RBx_"
   },
   "source": [
    "![alt text](https://i.imgur.com/sPEE618.png)"
   ]
  },
  {
   "cell_type": "markdown",
   "metadata": {
    "id": "6e-UamlHRjPy"
   },
   "source": [
    "After getting predicted_y for each data point, we can use sklearns mean_squared_error to calculate the MSE between predicted_y and actual_y."
   ]
  },
  {
   "cell_type": "markdown",
   "metadata": {
    "id": "TnIMT7_oR312"
   },
   "source": [
    "*  <font color='blue'><b> Write code for calculating MSE</b></font>"
   ]
  },
  {
   "cell_type": "code",
   "execution_count": 138,
   "metadata": {
    "id": "qWhcvMRWRA9b"
   },
   "outputs": [],
   "source": [
    "def calculate_mean_sq_error(y_predict):\n",
    "    predicted_median = np.median(y_predict,axis=1)\n",
    "\n",
    "    mean_sq_error =  mean_squared_error(y,predicted_median)\n",
    "    \n",
    "    return mean_sq_error\n"
   ]
  },
  {
   "cell_type": "code",
   "execution_count": 113,
   "metadata": {
    "colab": {
     "base_uri": "https://localhost:8080/"
    },
    "id": "yOUGaAGsEEXh",
    "outputId": "9c6c00e4-8466-4caf-8a77-ea74a0f87cc8"
   },
   "outputs": [
    {
     "name": "stdout",
     "output_type": "stream",
     "text": [
      "The Mean Square Error obtained is :  0.057179951690821296\n"
     ]
    }
   ],
   "source": [
    "mean_sq_error=calculate_mean_sq_error(y_predict)\n",
    "print('The Mean Square Error obtained is :  {}'.format(mean_sq_error))"
   ]
  },
  {
   "cell_type": "markdown",
   "metadata": {
    "id": "RuclPDMnSz8F"
   },
   "source": [
    "<font color='blue'><b>Step - 3 </b></font>"
   ]
  },
  {
   "cell_type": "markdown",
   "metadata": {
    "id": "ESb9FSIDTM5V"
   },
   "source": [
    "<font color='orange'><b>Flowchart for calculating OOB score</b></font>"
   ]
  },
  {
   "cell_type": "markdown",
   "metadata": {
    "id": "HB-d6NMETbd9"
   },
   "source": [
    "![alt text](https://i.imgur.com/95S5Mtm.png)"
   ]
  },
  {
   "cell_type": "markdown",
   "metadata": {
    "id": "WW3GOcFzTqbt"
   },
   "source": [
    "Now calculate the $OOB Score =  \\frac{1}{506}\\sum_{i=1}^{506}(y^{i} - y^{i}_{pred})^{2}$."
   ]
  },
  {
   "cell_type": "markdown",
   "metadata": {
    "id": "zBqcS03pUYSZ"
   },
   "source": [
    "*  <font color='blue'><b> Write code for calculating OOB score </b></font>"
   ]
  },
  {
   "cell_type": "code",
   "execution_count": 127,
   "metadata": {
    "id": "Fog_6DNdS-h_"
   },
   "outputs": [],
   "source": [
    "def calculate_oob_score(list_selected_row,dt_reg_model,x):\n",
    "    y_predict_oob_list = []\n",
    "\n",
    "    for i in range(506):\n",
    "        pt = []\n",
    "\n",
    "        for j in range(30):\n",
    "            if(i not in list_selected_row[j]):\n",
    "               pt.append(j)\n",
    "        y_preds_oob = []\n",
    "\n",
    "        for model in pt:\n",
    "           model_oob = dt_reg_model[model]\n",
    "           row = x[i]\n",
    "           x_oob = [row[column] for column in list_selected_columns[model]]\n",
    "           x_oob = np.array(x_oob).reshape(1,-1)\n",
    "           y_pred_oob = model_oob.predict(x_oob)\n",
    "           y_preds_oob.append(y_pred_oob)\n",
    "        y_preds_oob_median = np.median(np.array(y_preds_oob))\n",
    "        y_predict_oob_list.append(y_preds_oob_median)\n",
    "\n",
    "\n",
    "    oob_score = 0\n",
    "    for i in range(506):\n",
    "        oob_score += ((y[i]-y_predict_oob_list[i]) ** 2)\n",
    "    oob_score = oob_score/506\n",
    "\n",
    "    return oob_score"
   ]
  },
  {
   "cell_type": "code",
   "execution_count": 128,
   "metadata": {
    "colab": {
     "base_uri": "https://localhost:8080/"
    },
    "id": "MZ25j0EHGEZO",
    "outputId": "161e0419-2d9c-41c0-a092-064f9f89b552"
   },
   "outputs": [
    {
     "name": "stdout",
     "output_type": "stream",
     "text": [
      "The Obtained OOB Score is 15.384079518006148\n"
     ]
    }
   ],
   "source": [
    "print('The Obtained OOB Score is {}'.format(calculate_oob_score(list_selected_row,dt_reg_model,x)))"
   ]
  },
  {
   "cell_type": "markdown",
   "metadata": {
    "id": "sbuiwX3OUjUI"
   },
   "source": [
    "# <font color='blue'><b>Task 2</b></font>"
   ]
  },
  {
   "cell_type": "code",
   "execution_count": 145,
   "metadata": {
    "colab": {
     "base_uri": "https://localhost:8080/"
    },
    "id": "ceW5-D88Uswi",
    "outputId": "68cbe462-5e53-4627-84f2-ab87f565facf"
   },
   "outputs": [
    {
     "name": "stdout",
     "output_type": "stream",
     "text": [
      "0.13048913043478266\n",
      "13.182218379446626\n"
     ]
    }
   ],
   "source": [
    "#Checking if functions are working\n",
    "list_input_data,list_output_data,list_selected_row,list_selected_columns=gen_30_samples(x,y)\n",
    "y_predict,dt_reg_model = build_reg_trees(list_input_data,list_output_data)\n",
    "mean_sq_error=calculate_mean_sq_error(y_predict)\n",
    "oob_score=calculate_oob_score(list_selected_row,dt_reg_model,x)\n",
    "\n",
    "print(mean_sq_error)\n",
    "print(oob_score)\n",
    "\n",
    "\n",
    "\n",
    "\n"
   ]
  },
  {
   "cell_type": "code",
   "execution_count": 146,
   "metadata": {
    "id": "sfcYVLaITVBz"
   },
   "outputs": [],
   "source": [
    "x=boston.data #independent variables\n",
    "y=boston.target #target variable\n",
    "\n",
    "mean_sq_error_list = []\n",
    "oob_scores_list = []\n",
    "for i in range(35):\n",
    "    list_input_data,list_output_data,list_selected_row,list_selected_columns=gen_30_samples(x,y)\n",
    "    y_predict,dt_reg_model = build_reg_trees(list_input_data,list_output_data)\n",
    "    mean_sq_error=calculate_mean_sq_error(y_predict)\n",
    "    oob_score=calculate_oob_score(list_selected_row,dt_reg_model,x)   \n",
    "    mean_sq_error_list.append(mean_sq_error)\n",
    "    oob_scores_list.append(oob_score)\n",
    "\n",
    "mean_sq_error_array= np.array(mean_sq_error_list)\n",
    "oob_scores_array = np.array(oob_scores_list)"
   ]
  },
  {
   "cell_type": "code",
   "execution_count": 147,
   "metadata": {
    "colab": {
     "base_uri": "https://localhost:8080/"
    },
    "id": "JYT0HqYjIYue",
    "outputId": "dd84618b-e1d3-45db-cce2-1ccff5635bf6"
   },
   "outputs": [
    {
     "name": "stdout",
     "output_type": "stream",
     "text": [
      "[0.03016304 0.11605731 0.13417984 0.25357354 0.04913538 0.31685268\n",
      " 0.07759103 0.03198177 0.03908597 0.17856225 0.05212451 0.081833\n",
      " 0.06056478 0.10107213 0.02759387 0.05392342 0.09831923 0.08361606\n",
      " 0.27084015 0.13227767 0.08610521 0.30781169 0.07070707 0.06333368\n",
      " 0.06105676 0.13159091 0.09162549 0.10996294 0.02355731 0.19146166\n",
      " 0.02841403 0.08686759 0.01161561 0.10492136 0.1088834 ]\n",
      "[14.65921443 13.54837945 11.34489954 13.0267005  12.81639044 14.92688241\n",
      " 13.83255349 12.65890593 16.25762964 15.8757703  12.42894199 14.64453063\n",
      " 14.68291068 12.29350904 13.26867589 14.28023525 16.70725654 14.3955008\n",
      " 15.05399912 13.74592507 10.49402085 12.94474933 14.77789032  9.9559041\n",
      " 13.68037875 14.21315219 14.84876976 15.8888573  14.44325716 13.30577295\n",
      " 13.60087813 13.12079821 15.86025911 12.78819229 12.65929977]\n"
     ]
    }
   ],
   "source": [
    "print(mean_sq_error_array)\n",
    "print(oob_scores_array)"
   ]
  },
  {
   "cell_type": "markdown",
   "metadata": {
    "id": "x-y86yINVDXr"
   },
   "source": [
    "Calculating Confidence Interval"
   ]
  },
  {
   "cell_type": "code",
   "execution_count": 158,
   "metadata": {
    "id": "LyyBWvecYQyQ"
   },
   "outputs": [],
   "source": [
    "def cal_CI(input_data):\n",
    "    '''\n",
    "      Function to calculate Confidence interval\n",
    "    '''\n",
    "    x = PrettyTable()\n",
    "    x = PrettyTable([\"SL No:\", \"Sample Size\", \"Sample mean\", \"Sample std\", \"Population mean\",\"Left C.I\",\"Right C.I\",\"Match\"])\n",
    "    Population_mean = input_data.mean()\n",
    "    for i in range(10):\n",
    "        sample = input_data[np.random.choice(input_data.shape[0],size = 20)]\n",
    "        sample_size = len(sample)\n",
    "        sample_mean = sample.mean()\n",
    "        sample_std =  sample.std()\n",
    "\n",
    "        left_ci_limit  = np.round(sample_mean - 2*(sample_std/np.sqrt(sample_size)), 3)\n",
    "        right_ci_limit = np.round(sample_mean + 2*(sample_std/np.sqrt(sample_size)), 3)\n",
    "\n",
    "        row = []\n",
    "        row.append(i+1)\n",
    "        row.append(sample_size)\n",
    "        row.append(sample_mean)\n",
    "        row.append(sample_std)\n",
    "        row.append(Population_mean)\n",
    "        row.append(left_ci_limit)\n",
    "        row.append(right_ci_limit)\n",
    "        row.append((Population_mean <= right_limit) and (Population_mean >= left_limit))\n",
    "        x.add_row(row)\n",
    "    \n",
    "    print(x)"
   ]
  },
  {
   "cell_type": "code",
   "execution_count": 159,
   "metadata": {
    "colab": {
     "base_uri": "https://localhost:8080/"
    },
    "id": "qAaem38iZNw0",
    "outputId": "4ec48ab5-8b87-4167-cc7f-ae985465d132"
   },
   "outputs": [
    {
     "name": "stdout",
     "output_type": "stream",
     "text": [
      "+--------+-------------+---------------------+----------------------+---------------------+----------+-----------+-------+\n",
      "| SL No: | Sample Size |     Sample mean     |      Sample std      |   Population mean   | Left C.I | Right C.I | Match |\n",
      "+--------+-------------+---------------------+----------------------+---------------------+----------+-----------+-------+\n",
      "|   1    |      20     | 0.11092458788762301 | 0.07529265870235767  | 0.10477892480961046 |  0.077   |   0.145   |  True |\n",
      "|   2    |      20     | 0.10283323802735231 | 0.07279052237542541  | 0.10477892480961046 |   0.07   |   0.135   |  True |\n",
      "|   3    |      20     | 0.10950238072338817 | 0.07918409854466464  | 0.10477892480961046 |  0.074   |   0.145   |  True |\n",
      "|   4    |      20     | 0.11666680779862607 | 0.08532486656616632  | 0.10477892480961046 |  0.079   |   0.155   |  True |\n",
      "|   5    |      20     | 0.10039377799167588 | 0.09087381465918265  | 0.10477892480961046 |   0.06   |   0.141   |  True |\n",
      "|   6    |      20     | 0.12626958746961855 |  0.0844298114868682  | 0.10477892480961046 |  0.089   |   0.164   |  True |\n",
      "|   7    |      20     | 0.11418707646440393 | 0.09274573672142297  | 0.10477892480961046 |  0.073   |   0.156   |  True |\n",
      "|   8    |      20     | 0.10914956270510787 | 0.04951369370078267  | 0.10477892480961046 |  0.087   |   0.131   |  True |\n",
      "|   9    |      20     | 0.12892012255117552 |  0.0963883066513553  | 0.10477892480961046 |  0.086   |   0.172   |  True |\n",
      "|   10   |      20     | 0.07512458491800564 | 0.059602148981017095 | 0.10477892480961046 |  0.048   |   0.102   |  True |\n",
      "+--------+-------------+---------------------+----------------------+---------------------+----------+-----------+-------+\n"
     ]
    }
   ],
   "source": [
    "cal_CI(mean_sq_error_array)"
   ]
  },
  {
   "cell_type": "code",
   "execution_count": 160,
   "metadata": {
    "colab": {
     "base_uri": "https://localhost:8080/"
    },
    "id": "snJno1MQZafq",
    "outputId": "b6490901-9db7-4661-e512-a1d436cd2d3f"
   },
   "outputs": [
    {
     "name": "stdout",
     "output_type": "stream",
     "text": [
      "+--------+-------------+--------------------+--------------------+--------------------+----------+-----------+-------+\n",
      "| SL No: | Sample Size |    Sample mean     |     Sample std     |  Population mean   | Left C.I | Right C.I | Match |\n",
      "+--------+-------------+--------------------+--------------------+--------------------+----------+-----------+-------+\n",
      "|   1    |      20     | 13.320953474134138 | 1.5153806470597793 | 13.800885467578995 |  12.643  |   13.999  | False |\n",
      "|   2    |      20     | 14.103700614895441 | 1.0761396363299958 | 13.800885467578995 |  13.622  |   14.585  | False |\n",
      "|   3    |      20     | 14.090506777732054 | 1.3772609335373673 | 13.800885467578995 |  13.475  |   14.706  | False |\n",
      "|   4    |      20     | 14.349772099047161 | 1.1499073643418107 | 13.800885467578995 |  13.836  |   14.864  | False |\n",
      "|   5    |      20     |  14.1286802682794  | 1.3128102814664306 | 13.800885467578995 |  13.542  |   14.716  | False |\n",
      "|   6    |      20     | 13.404804319187855 | 1.756512496739416  | 13.800885467578995 |  12.619  |   14.19   | False |\n",
      "|   7    |      20     | 14.435469703541084 | 1.378796383773048  | 13.800885467578995 |  13.819  |   15.052  | False |\n",
      "|   8    |      20     | 13.90022916310437  | 1.526100721991936  | 13.800885467578995 |  13.218  |   14.583  | False |\n",
      "|   9    |      20     | 14.120578486471015 | 1.4302602146751828 | 13.800885467578995 |  13.481  |   14.76   | False |\n",
      "|   10   |      20     | 14.213140528718046 | 1.1391313404602712 | 13.800885467578995 |  13.704  |   14.723  | False |\n",
      "+--------+-------------+--------------------+--------------------+--------------------+----------+-----------+-------+\n"
     ]
    }
   ],
   "source": [
    "cal_CI(oob_scores_array)"
   ]
  },
  {
   "cell_type": "markdown",
   "metadata": {
    "id": "jKTnJdiBVS_e"
   },
   "source": [
    "# <font color='blue'><b>Task 3</b></font>"
   ]
  },
  {
   "cell_type": "markdown",
   "metadata": {
    "id": "eXxrvZqHV1Fr"
   },
   "source": [
    "<font color='orange'><b>Flowchart for Task 3</b></font>"
   ]
  },
  {
   "cell_type": "markdown",
   "metadata": {
    "id": "NyjwEJ62V6a6"
   },
   "source": [
    "<b>Hint: </b> We created 30 models by using 30 samples in TASK-1. Here, we need send query point \"xq\"  to 30 models and perform the regression on the output generated by 30 models."
   ]
  },
  {
   "cell_type": "markdown",
   "metadata": {
    "id": "0emSwLL7VurD"
   },
   "source": [
    "![alt text](https://i.imgur.com/Y5cNhQk.png)"
   ]
  },
  {
   "cell_type": "markdown",
   "metadata": {
    "id": "29hjwKlWWDfo"
   },
   "source": [
    "*  <font color='blue'><b> Write code for TASK 3 </b></font>"
   ]
  },
  {
   "cell_type": "code",
   "execution_count": 164,
   "metadata": {
    "id": "U0SRx_i8bWPa"
   },
   "outputs": [],
   "source": [
    "x=boston.data #independent variables\n",
    "y=boston.target #target variable\n",
    "\n",
    "list_input_data,list_output_data,list_selected_row,list_selected_columns=gen_30_samples(x,y)\n",
    "y_predict,dt_reg_model = build_reg_trees(list_input_data,list_output_data)"
   ]
  },
  {
   "cell_type": "code",
   "execution_count": 165,
   "metadata": {
    "colab": {
     "base_uri": "https://localhost:8080/"
    },
    "id": "i_pUlSD-VYD1",
    "outputId": "01e1daa8-ffa0-4070-d528-84cece5fc286"
   },
   "outputs": [
    {
     "name": "stdout",
     "output_type": "stream",
     "text": [
      "The Predicted House Price for the given features is [20.04366667]\n"
     ]
    }
   ],
   "source": [
    "xq= np.array([0.18,20.0,5.00,0.0,0.421,5.60,72.2,7.95,7.0,30.0,19.1,372.13,18.60])\n",
    "\n",
    "predict_value = 0\n",
    "\n",
    "for i in range(30):\n",
    "   predict_value+=dt_reg_model[i].predict(np.array([xq[column] for column in list_selected_columns[i]]).reshape(1,-1))\n",
    "\n",
    "print('The Predicted House Price for the given features is {}'.format(predict_value/30))\n"
   ]
  },
  {
   "cell_type": "markdown",
   "metadata": {
    "id": "DJHTGEZgWJjR"
   },
   "source": [
    "<br><br><br>"
   ]
  },
  {
   "cell_type": "markdown",
   "metadata": {
    "id": "IOdUi-0xWOJ9"
   },
   "source": [
    "<font color='red'><b>Write observations for task 1, task 2, task 3 indetail</b></font>"
   ]
  },
  {
   "cell_type": "markdown",
   "metadata": {
    "id": "jqjM7zrOc3ue"
   },
   "source": [
    "1. The Mean Square Error obtained in Task 1 is considerably high compared to MSE obtained from Task2, implies there exist high variance among the features\n",
    "2. From the CI obtained, we could see that the mean of OOB score and MSE lie within the CI implies that 95% times the mean calculated from the samples lie in CI\n",
    "3. Query point was send and the house price was predicted"
   ]
  },
  {
   "cell_type": "code",
   "execution_count": null,
   "metadata": {
    "id": "AIcax45hWKT-"
   },
   "outputs": [],
   "source": []
  }
 ],
 "metadata": {
  "colab": {
   "collapsed_sections": [],
   "name": "Application of Bootstrap samples in Random Forest.ipynb",
   "provenance": []
  },
  "kernelspec": {
   "display_name": "Python 3",
   "language": "python",
   "name": "python3"
  },
  "language_info": {
   "codemirror_mode": {
    "name": "ipython",
    "version": 3
   },
   "file_extension": ".py",
   "mimetype": "text/x-python",
   "name": "python",
   "nbconvert_exporter": "python",
   "pygments_lexer": "ipython3",
   "version": "3.7.4"
  }
 },
 "nbformat": 4,
 "nbformat_minor": 1
}
