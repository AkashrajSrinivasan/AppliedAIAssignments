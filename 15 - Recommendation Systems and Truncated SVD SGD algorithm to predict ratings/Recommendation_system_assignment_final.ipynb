{
  "nbformat": 4,
  "nbformat_minor": 0,
  "metadata": {
    "colab": {
      "name": "Recommendation_system_assignment_final.ipynb",
      "provenance": [],
      "collapsed_sections": []
    },
    "kernelspec": {
      "display_name": "Python 3",
      "language": "python",
      "name": "python3"
    },
    "language_info": {
      "codemirror_mode": {
        "name": "ipython",
        "version": 3
      },
      "file_extension": ".py",
      "mimetype": "text/x-python",
      "name": "python",
      "nbconvert_exporter": "python",
      "pygments_lexer": "ipython3",
      "version": "3.7.4"
    }
  },
  "cells": [
    {
      "cell_type": "markdown",
      "metadata": {
        "id": "YeM0ZBWUVtXR"
      },
      "source": [
        "# <font color='red'>SGD Algorithm to predict movie ratings</font>"
      ]
    },
    {
      "cell_type": "markdown",
      "metadata": {
        "id": "M2vyJqSlmmjM"
      },
      "source": [
        "**There will be some functions that start with the word \"grader\" ex: grader_matrix(), grader_mean(), grader_dim() etc, you should not change those function definition.<br><br>Every Grader function has to return True.**"
      ]
    },
    {
      "cell_type": "markdown",
      "metadata": {
        "id": "AL6njTf8WBO0"
      },
      "source": [
        "<pre>\n",
        "1. Download the data from <a href='https://drive.google.com/open?id=1-1z7iDB52cB6_JpO7Dqa-eOYSs-mivpq'> here </a>\n",
        "2. The data will be of this format, each data point is represented as a triplet of user_id, movie_id and rating \n",
        "<table>\n",
        "<tr><th>user_id</th><th>movie_id</th><th>rating</th></tr>\n",
        "<tr><td>77</td><td>236</td><td>3</td></tr>\n",
        "<tr><td>471</td><td>208</td><td>5</td></tr>\n",
        "<tr><td>641</td><td>401</td><td>4</td></tr>\n",
        "<tr><td>31</td><td>298</td><td>4</td></tr>\n",
        "<tr><td>58</td><td>504</td><td>5</td></tr>\n",
        "<tr><td>235</td><td>727</td><td>5</td></tr>\n",
        "</table>"
      ]
    },
    {
      "cell_type": "code",
      "metadata": {
        "colab": {
          "base_uri": "https://localhost:8080/",
          "height": 0
        },
        "id": "gsMLUCEHtjXl",
        "outputId": "95c832aa-d0f8-4a9b-d0b7-282f4a28f7ec"
      },
      "source": [
        "from google.colab import drive\n",
        "drive.mount('/content/drive')"
      ],
      "execution_count": 1,
      "outputs": [
        {
          "output_type": "stream",
          "name": "stdout",
          "text": [
            "Mounted at /content/drive\n"
          ]
        }
      ]
    },
    {
      "cell_type": "markdown",
      "metadata": {
        "id": "73dhFsT0WSSB"
      },
      "source": [
        "## <font color='red'>Task 1</font>"
      ]
    },
    {
      "cell_type": "markdown",
      "metadata": {
        "id": "HY0frS6EWaEV"
      },
      "source": [
        "<font color='red'><b>Predict the rating for a given (user_id, movie_id) pair </b> </font>\n"
      ]
    },
    {
      "cell_type": "markdown",
      "metadata": {
        "id": "R-ISYxaVbT8L"
      },
      "source": [
        "Predicted rating $\\hat{y}_{ij}$ for user i, movied j pair is calcuated as $\\hat{y}_{ij} = \\mu + b_i + c_j + u_i^T v_j$ , here we will be finding the best values of $b_{i}$ and $c_{j}$ using SGD algorithm with the optimization problem for N users and M movies is defined as"
      ]
    },
    {
      "cell_type": "markdown",
      "metadata": {
        "id": "8Aj8SXeQWlZd"
      },
      "source": [
        "$$\n",
        "L = \\min_{ b, c, \\{ u_i \\}_{i=1}^N, \\{ v_j \\}_{j=1}^M}\n",
        "\\quad\n",
        "\\alpha \\Big(\n",
        "    \\sum_{j} \\sum_{k} v_{jk}^2 \n",
        "    + \\sum_{i} \\sum_{k} u_{ik}^2 \n",
        "    + \\sum_{i} b_i^2\n",
        "    + \\sum_{j} c_i^2\n",
        "    \\Big)\n",
        "+ \\sum_{i,j \\in \\mathcal{I}^{\\text{train}}}\n",
        "    (y_{ij} - \\mu - b_i - c_j - u_i^T v_j)^2\n",
        "$$"
      ]
    },
    {
      "cell_type": "markdown",
      "metadata": {
        "id": "2Q5bnWyZXrM7"
      },
      "source": [
        "<ul>\n",
        "<li><span class=\"math\">\\(\\mu\\)</span> : scalar mean rating</li>\n",
        "<li><span class=\"math\">\\(b_i\\)</span> : scalar bias term for user <span class=\"math\">\\(i\\)</span></li>\n",
        "<li><span class=\"math\">\\(c_j\\)</span> : scalar bias term for movie <span class=\"math\">\\(j\\)</span></li>\n",
        "<li><span class=\"math\">\\(u_i\\)</span> : K-dimensional vector for user <span class=\"math\">\\(i\\)</span></li>\n",
        "<li><span class=\"math\">\\(v_j\\)</span> : K-dimensional vector for movie <span class=\"math\">\\(j\\)</span></li>\n",
        "</ul>\n",
        "\n",
        " $ \\ $\n"
      ]
    },
    {
      "cell_type": "markdown",
      "metadata": {
        "id": "q1cf4CunbEr4"
      },
      "source": [
        "\n",
        "\n",
        "\n",
        "*.  We will be giving you some functions, please write code in that functions only.\n",
        "\n",
        "*.  After every function, we will be giving you expected output, please make sure that you get that output. \n",
        "\n",
        "\n",
        "\n"
      ]
    },
    {
      "cell_type": "markdown",
      "metadata": {
        "id": "ZWQyB5hfy3u7"
      },
      "source": [
        "1. Construct adjacency matrix with the given data, assuming its graph and the weight of each edge is the rating given by user to the movie\n",
        "\n",
        "<img src='https://i.imgur.com/rmUCGMb.jpg' width=200>\n",
        "\n",
        "   you can construct this matrix like $A[i][j]=r_{ij}$ here $i$ is user_id, $j$ is movie_id and $r_{ij}$ is rating given by user $i$ to the movie $j$\n",
        "\n",
        "   Hint : you can create adjacency matrix using <a href='https://docs.scipy.org/doc/scipy/reference/generated/scipy.sparse.csr_matrix.html'> csr_matrix</a>\n",
        "\n",
        "2. We will Apply SVD decomposition on the Adjaceny matrix <a href='https://stackoverflow.com/a/31528944/4084039'>link1</a>, <a href='https://machinelearningmastery.com/singular-value-decomposition-for-machine-learning/'> link2</a> and get three matrices $U, \\sum, V$ such that $U \\times \\sum \\times V^T = A$, <br> \n",
        "if $A$ is of dimensions $N \\times M$ then <br>\n",
        "U is of $N \\times k$, <br>\n",
        "$\\sum$ is of $k \\times k$ and <br>\n",
        "$V$ is $M \\times k$ dimensions. <br>\n",
        "\n",
        "   *.  So the matrix $U$ can be represented as matrix representation of users, where each row $u_{i}$ represents a k-dimensional vector for a user\n",
        "\n",
        "   *. So the matrix $V$ can be represented as matrix representation of movies, where each row $v_{j}$ represents a k-dimensional vector for a movie.\n",
        "3. Compute $\\mu$ , $\\mu$  represents the mean of all the rating given in the dataset.(write your code in <font color='blue'>def m_u()</font>)\n",
        "4. For each unique user initilize a bias value $B_{i}$ to zero, so if we have $N$ users $B$ will be a $N$ dimensional vector, the $i^{th}$ value of the $B$ will corresponds to the bias term for $i^{th}$ user (write your code in <font color='blue'>def initialize()</font>)\n",
        "\n",
        "5. For each unique movie initilize a bias value $C_{j}$ zero, so if we have $M$ movies $C$ will be a $M$ dimensional vector, the $j^{th}$ value of the $C$ will corresponds to the bias term for $j^{th}$ movie (write your code in <font color='blue'>def initialize()</font>)\n",
        "\n",
        "6. Compute dL/db_i (Write you code in <font color='blue'> def derivative_db()</font>)\n",
        "7. Compute dL/dc_j(write your code in <font color='blue'> def derivative_dc()</font>\n",
        "\n",
        "8. Print the mean squared error with predicted ratings.\n",
        "\n",
        "<pre>\n",
        "for each epoch:\n",
        "    for each pair of (user, movie):\n",
        "        b_i =  b_i - learning_rate * dL/db_i\n",
        "        c_j =  c_j - learning_rate * dL/dc_j\n",
        "predict the ratings with formula\n",
        "</pre>\n",
        "$\\hat{y}_{ij} = \\mu + b_i + c_j + \\text{dot_product}(u_i , v_j) $\n",
        "\n",
        "9. you can choose any learning rate and regularization term in the range $10^{-3}  \\text{ to } 10^2$  <br>\n",
        "  \n",
        "10. __bonus__: instead of using SVD decomposition you can learn the vectors $u_i$, $v_j$ with the help of SGD algo similar to $b_i$ and $c_j$ "
      ]
    },
    {
      "cell_type": "code",
      "metadata": {
        "id": "VlPVJoZ8JN4P"
      },
      "source": [
        ""
      ],
      "execution_count": 1,
      "outputs": []
    },
    {
      "cell_type": "code",
      "metadata": {
        "id": "Q2XrlYeuJOFq"
      },
      "source": [
        ""
      ],
      "execution_count": 1,
      "outputs": []
    },
    {
      "cell_type": "markdown",
      "metadata": {
        "id": "3-aBnRepA6gy"
      },
      "source": [
        "<br>"
      ]
    },
    {
      "cell_type": "markdown",
      "metadata": {
        "id": "IP_6xMAZA4mE"
      },
      "source": [
        " # <font color='red'>Task 2 </font>"
      ]
    },
    {
      "cell_type": "markdown",
      "metadata": {
        "id": "-9HCN_3WA2au"
      },
      "source": [
        "As we know U is the learned matrix of user vectors, with its i-th row as the vector ui for user i. Each row of U can be seen as a \"feature vector\" for a particular user.\n",
        "\n",
        "The question we'd like to investigate is this: do our computed per-user features that are optimized for predicting movie ratings contain anything to do with gender?\n",
        "\n",
        "The provided data file <a href='https://drive.google.com/open?id=1PHFdJh_4gIPiLH5Q4UErH8GK71hTrzlY'>user_info.csv</a> contains an is_male column indicating which users in the dataset are male. Can you predict this signal given the features U?\n",
        "\n",
        "\n",
        "> __Note 1__ : there is no train test split in the data, the goal of this assignment is to give an intution about how to do matrix factorization with the help of SGD and application of truncated SVD. for better understanding of the collabarative fillerting please check netflix case study. <br><br>\n",
        "> __Note 2__ : Check if scaling of $U$, $V$ matrices improve the metric "
      ]
    },
    {
      "cell_type": "markdown",
      "metadata": {
        "id": "ovFCo1JCBIXM"
      },
      "source": [
        "<br>\n",
        "\n",
        "\n",
        "<br>"
      ]
    },
    {
      "cell_type": "code",
      "metadata": {
        "id": "9cbpUzzWtZWk"
      },
      "source": [
        ""
      ],
      "execution_count": 1,
      "outputs": []
    },
    {
      "cell_type": "markdown",
      "metadata": {
        "id": "iVJo-3njBQLf"
      },
      "source": [
        "<font color='red'> Reading the csv file </font>"
      ]
    },
    {
      "cell_type": "code",
      "metadata": {
        "colab": {
          "base_uri": "https://localhost:8080/",
          "height": 206
        },
        "id": "hEhmfRD637EW",
        "outputId": "ff1d2b5a-b364-4341-e67f-d0a78391fc98"
      },
      "source": [
        "import pandas as pd\n",
        "data=pd.read_csv('/content/drive/MyDrive/AI-ML-Assignments/Recommendation System using Truncated SVD/ratings_train.csv')\n",
        "data.head()"
      ],
      "execution_count": 2,
      "outputs": [
        {
          "output_type": "execute_result",
          "data": {
            "text/html": [
              "<div>\n",
              "<style scoped>\n",
              "    .dataframe tbody tr th:only-of-type {\n",
              "        vertical-align: middle;\n",
              "    }\n",
              "\n",
              "    .dataframe tbody tr th {\n",
              "        vertical-align: top;\n",
              "    }\n",
              "\n",
              "    .dataframe thead th {\n",
              "        text-align: right;\n",
              "    }\n",
              "</style>\n",
              "<table border=\"1\" class=\"dataframe\">\n",
              "  <thead>\n",
              "    <tr style=\"text-align: right;\">\n",
              "      <th></th>\n",
              "      <th>user_id</th>\n",
              "      <th>item_id</th>\n",
              "      <th>rating</th>\n",
              "    </tr>\n",
              "  </thead>\n",
              "  <tbody>\n",
              "    <tr>\n",
              "      <th>0</th>\n",
              "      <td>772</td>\n",
              "      <td>36</td>\n",
              "      <td>3</td>\n",
              "    </tr>\n",
              "    <tr>\n",
              "      <th>1</th>\n",
              "      <td>471</td>\n",
              "      <td>228</td>\n",
              "      <td>5</td>\n",
              "    </tr>\n",
              "    <tr>\n",
              "      <th>2</th>\n",
              "      <td>641</td>\n",
              "      <td>401</td>\n",
              "      <td>4</td>\n",
              "    </tr>\n",
              "    <tr>\n",
              "      <th>3</th>\n",
              "      <td>312</td>\n",
              "      <td>98</td>\n",
              "      <td>4</td>\n",
              "    </tr>\n",
              "    <tr>\n",
              "      <th>4</th>\n",
              "      <td>58</td>\n",
              "      <td>504</td>\n",
              "      <td>5</td>\n",
              "    </tr>\n",
              "  </tbody>\n",
              "</table>\n",
              "</div>"
            ],
            "text/plain": [
              "   user_id  item_id  rating\n",
              "0      772       36       3\n",
              "1      471      228       5\n",
              "2      641      401       4\n",
              "3      312       98       4\n",
              "4       58      504       5"
            ]
          },
          "metadata": {},
          "execution_count": 2
        }
      ]
    },
    {
      "cell_type": "code",
      "metadata": {
        "colab": {
          "base_uri": "https://localhost:8080/",
          "height": 0
        },
        "id": "66ibGJ74hCde",
        "outputId": "34705d6f-ef2b-45ff-cd8c-7ea59b483a2c"
      },
      "source": [
        "data.shape"
      ],
      "execution_count": 3,
      "outputs": [
        {
          "output_type": "execute_result",
          "data": {
            "text/plain": [
              "(89992, 3)"
            ]
          },
          "metadata": {},
          "execution_count": 3
        }
      ]
    },
    {
      "cell_type": "markdown",
      "metadata": {
        "id": "mvB8SDS_hW03"
      },
      "source": [
        "<font color='red'>Create your adjacency matrix </font>"
      ]
    },
    {
      "cell_type": "code",
      "metadata": {
        "colab": {
          "base_uri": "https://localhost:8080/",
          "height": 0
        },
        "id": "oTw7pquxtZWu",
        "outputId": "03df0339-147b-46e0-b705-50b57a2948bf"
      },
      "source": [
        "import numpy as np\n",
        "np.array(data['item_id'])"
      ],
      "execution_count": 4,
      "outputs": [
        {
          "output_type": "execute_result",
          "data": {
            "text/plain": [
              "array([ 36, 228, 401, ..., 505, 472, 204])"
            ]
          },
          "metadata": {},
          "execution_count": 4
        }
      ]
    },
    {
      "cell_type": "code",
      "metadata": {
        "id": "t44MNT40hZQW"
      },
      "source": [
        "import numpy as np\n",
        "from scipy.sparse import csr_matrix\n",
        "ratings = np.array(data['rating'])\n",
        "users = np.array(data['user_id'])\n",
        "items = np.array(data['item_id'])\n",
        "adjacency_matrix = csr_matrix((ratings,(users,items)))"
      ],
      "execution_count": 5,
      "outputs": []
    },
    {
      "cell_type": "code",
      "metadata": {
        "id": "-mCgC0WbhZTO",
        "colab": {
          "base_uri": "https://localhost:8080/",
          "height": 0
        },
        "outputId": "061da23b-af11-4313-d706-d7bfbf2ae4e5"
      },
      "source": [
        "adjacency_matrix.shape"
      ],
      "execution_count": 6,
      "outputs": [
        {
          "output_type": "execute_result",
          "data": {
            "text/plain": [
              "(943, 1681)"
            ]
          },
          "metadata": {},
          "execution_count": 6
        }
      ]
    },
    {
      "cell_type": "markdown",
      "metadata": {
        "id": "4acJD4ujEtD6"
      },
      "source": [
        "<font color='cyan'>Grader function - 1</font>"
      ]
    },
    {
      "cell_type": "code",
      "metadata": {
        "id": "2QuTzFBREsDV",
        "colab": {
          "base_uri": "https://localhost:8080/",
          "height": 0
        },
        "outputId": "dfd80210-616b-4b97-d839-d1df7a5a933d"
      },
      "source": [
        "def grader_matrix(matrix):\n",
        "  assert(matrix.shape==(943,1681))\n",
        "  return True\n",
        "grader_matrix(adjacency_matrix)"
      ],
      "execution_count": 7,
      "outputs": [
        {
          "output_type": "execute_result",
          "data": {
            "text/plain": [
              "True"
            ]
          },
          "metadata": {},
          "execution_count": 7
        }
      ]
    },
    {
      "cell_type": "markdown",
      "metadata": {
        "id": "U7VwkRNeHpWE"
      },
      "source": [
        "**The unique items in the given csv file are 1662 only . But the id's vary from 0-1681 but they are not continuous and hence \n",
        "you'll get matrix of size 943x1681.**"
      ]
    },
    {
      "cell_type": "markdown",
      "metadata": {
        "id": "gXDf1RCUBsYN"
      },
      "source": [
        "<font color='red'> SVD decompostion</font>"
      ]
    },
    {
      "cell_type": "markdown",
      "metadata": {
        "id": "OJPWI9VwD_ih"
      },
      "source": [
        "Sample code for SVD decompostion"
      ]
    },
    {
      "cell_type": "code",
      "metadata": {
        "colab": {
          "base_uri": "https://localhost:8080/",
          "height": 0
        },
        "id": "GATD35bmBszc",
        "outputId": "f1180114-38ef-43b0-9789-d165de9d9b84"
      },
      "source": [
        "from sklearn.utils.extmath import randomized_svd\n",
        "import numpy as np \n",
        "matrix = np.random.random((20, 10))\n",
        "U, Sigma, VT = randomized_svd(matrix, n_components=5,n_iter=5, random_state=None)\n",
        "print(U.shape)\n",
        "print(Sigma.shape)\n",
        "print(VT.T.shape)"
      ],
      "execution_count": 8,
      "outputs": [
        {
          "output_type": "stream",
          "name": "stdout",
          "text": [
            "(20, 5)\n",
            "(5,)\n",
            "(10, 5)\n"
          ]
        }
      ]
    },
    {
      "cell_type": "markdown",
      "metadata": {
        "id": "ePDgwALQEJoB"
      },
      "source": [
        "<font color='red'>Write your code for SVD decompostion</font>"
      ]
    },
    {
      "cell_type": "code",
      "metadata": {
        "id": "ZYnsKBmFEIg3",
        "colab": {
          "base_uri": "https://localhost:8080/",
          "height": 0
        },
        "outputId": "66eff65f-a05c-4fdd-8b39-4b28df5e6490"
      },
      "source": [
        "# Please use adjacency_matrix as matrix for SVD decompostion\n",
        "# You can choose n_components as your choice\n",
        "U, Sigma, VT = randomized_svd(adjacency_matrix, n_components=20,n_iter=5, random_state=1679)\n",
        "print(U.shape)\n",
        "print(Sigma.shape)\n",
        "print(VT.shape)"
      ],
      "execution_count": 9,
      "outputs": [
        {
          "output_type": "stream",
          "name": "stdout",
          "text": [
            "(943, 20)\n",
            "(20,)\n",
            "(20, 1681)\n"
          ]
        }
      ]
    },
    {
      "cell_type": "code",
      "metadata": {
        "colab": {
          "base_uri": "https://localhost:8080/",
          "height": 0
        },
        "id": "wI0XmdratZW8",
        "outputId": "3be9b8c7-f869-46e6-f7ff-a23dcae83df6"
      },
      "source": [
        "print(U.shape)"
      ],
      "execution_count": 10,
      "outputs": [
        {
          "output_type": "stream",
          "name": "stdout",
          "text": [
            "(943, 20)\n"
          ]
        }
      ]
    },
    {
      "cell_type": "markdown",
      "metadata": {
        "id": "83Vh4NoO_JyU"
      },
      "source": [
        "<font color='red'>Compute mean of ratings</font>"
      ]
    },
    {
      "cell_type": "code",
      "metadata": {
        "id": "cBHuCn2QSEnl"
      },
      "source": [
        "import statistics\n",
        "\n",
        "def m_u(ratings):\n",
        "    '''In this function, we will compute mean for all the ratings'''\n",
        "    # you can use mean() function to do this\n",
        "    # check this (https://pandas.pydata.org/pandas-docs/stable/reference/api/pandas.DataFrame.mean.html) link for more details.\n",
        "    return statistics.mean(ratings)"
      ],
      "execution_count": 11,
      "outputs": []
    },
    {
      "cell_type": "code",
      "metadata": {
        "id": "iu1nn-1x3ebp",
        "colab": {
          "base_uri": "https://localhost:8080/",
          "height": 0
        },
        "outputId": "6e2d2ea4-9958-401b-fd6e-c924bd9f0b2d"
      },
      "source": [
        "mu=m_u(data['rating'])\n",
        "print(mu)"
      ],
      "execution_count": 12,
      "outputs": [
        {
          "output_type": "stream",
          "name": "stdout",
          "text": [
            "3.529480398257623\n"
          ]
        }
      ]
    },
    {
      "cell_type": "markdown",
      "metadata": {
        "id": "76ooYQIdG_tf"
      },
      "source": [
        "<font color='cyan'>Grader function -2 </font>"
      ]
    },
    {
      "cell_type": "code",
      "metadata": {
        "id": "TZy1m67oG9r9",
        "colab": {
          "base_uri": "https://localhost:8080/",
          "height": 0
        },
        "outputId": "480a4fa9-ddbd-47bb-9eba-7e2ab80e9e87"
      },
      "source": [
        "\n",
        "def grader_mean(mu):\n",
        "  assert(np.round(mu,3)==3.529)\n",
        "  return True\n",
        "mu=m_u(data['rating'])\n",
        "grader_mean(mu)"
      ],
      "execution_count": 13,
      "outputs": [
        {
          "output_type": "execute_result",
          "data": {
            "text/plain": [
              "True"
            ]
          },
          "metadata": {},
          "execution_count": 13
        }
      ]
    },
    {
      "cell_type": "markdown",
      "metadata": {
        "id": "qSvAW1X94g3G"
      },
      "source": [
        "<font color='red'>Initialize $B_{i}$ and $C_{j}$"
      ]
    },
    {
      "cell_type": "markdown",
      "metadata": {
        "id": "qsOl-4xq5aUG"
      },
      "source": [
        "Hint : Number of rows of adjacent matrix corresponds to user dimensions($B_{i}$), number of columns of adjacent matrix corresponds to movie dimensions ($C_{j}$)"
      ]
    },
    {
      "cell_type": "code",
      "metadata": {
        "id": "AyEJqPka4lBW"
      },
      "source": [
        "def initialize(dim):\n",
        "    '''In this function, we will initialize bias value 'B' and 'C'.'''\n",
        "    # initalize the value to zeros \n",
        "    # return output as a list of zeros \n",
        "    return np.zeros(dim)"
      ],
      "execution_count": 14,
      "outputs": []
    },
    {
      "cell_type": "code",
      "metadata": {
        "id": "Nlae9QAQ43Xz"
      },
      "source": [
        "#dim= give the number of dimensions for b_i (Here b_i corresponds to users)\n",
        "dim = 943\n",
        "b_i=initialize(dim)"
      ],
      "execution_count": 15,
      "outputs": []
    },
    {
      "cell_type": "code",
      "metadata": {
        "id": "rwuopn4HoEbP"
      },
      "source": [
        "#dim=  give the number of dimensions for c_j (Here c_j corresponds to movies)\n",
        "dim = 1681\n",
        "c_j=initialize(dim)"
      ],
      "execution_count": 16,
      "outputs": []
    },
    {
      "cell_type": "markdown",
      "metadata": {
        "id": "nfPJ3_h6JIkI"
      },
      "source": [
        "<font color='cyan'>Grader function -3 </font>"
      ]
    },
    {
      "cell_type": "code",
      "metadata": {
        "id": "dQhiNjw0Hz4m",
        "colab": {
          "base_uri": "https://localhost:8080/",
          "height": 0
        },
        "outputId": "ec8b4c49-af89-441c-98f7-ccb76738d0c2"
      },
      "source": [
        "def grader_dim(b_i,c_j):\n",
        "  assert(len(b_i)==943 and np.sum(b_i)==0)\n",
        "  assert(len(c_j)==1681 and np.sum(c_j)  ==0)\n",
        "  return True\n",
        "grader_dim(b_i,c_j)"
      ],
      "execution_count": 17,
      "outputs": [
        {
          "output_type": "execute_result",
          "data": {
            "text/plain": [
              "True"
            ]
          },
          "metadata": {},
          "execution_count": 17
        }
      ]
    },
    {
      "cell_type": "markdown",
      "metadata": {
        "id": "DTDK4ZR18MrZ"
      },
      "source": [
        "<font color='red'>Compute dL/db_i</font>"
      ]
    },
    {
      "cell_type": "code",
      "metadata": {
        "id": "3NFzVC1N8S4L"
      },
      "source": [
        "def derivative_db(user_id,item_id,rating,U,VT,mu,alpha):\n",
        "    '''In this function, we will compute dL/db_i'''\n",
        "    dL_db_i = 2 * (b_i[user_id]) * alpha - 2*(rating - mu - b_i[user_id] - c_j[item_id] - np.dot(U,VT)[user_id][item_id]) #np.dot is used for multiplying matrix U and VT\n",
        "    return dL_db_i\n"
      ],
      "execution_count": 18,
      "outputs": []
    },
    {
      "cell_type": "markdown",
      "metadata": {
        "id": "ilISrTeQ0f0v"
      },
      "source": [
        "<font color='cyan'>Grader function -4 </font>"
      ]
    },
    {
      "cell_type": "code",
      "metadata": {
        "id": "Wt5ixEVZ043U",
        "colab": {
          "base_uri": "https://localhost:8080/",
          "height": 0
        },
        "outputId": "2aacbb32-2024-4d2c-f83a-89a419a646ba"
      },
      "source": [
        "def grader_db(value):\n",
        "    assert(np.round(value,3)==-0.931)\n",
        "    return True\n",
        "U1, Sigma, V1 = randomized_svd(adjacency_matrix, n_components=2,n_iter=5, random_state=24)\n",
        "# Please don't change random state\n",
        "# Here we are considering n_componets = 2 for our convinence\n",
        "alpha=0.01 \n",
        "value=derivative_db(312,98,4,U1,V1,mu,alpha)\n",
        "grader_db(value)"
      ],
      "execution_count": 19,
      "outputs": [
        {
          "output_type": "execute_result",
          "data": {
            "text/plain": [
              "True"
            ]
          },
          "metadata": {},
          "execution_count": 19
        }
      ]
    },
    {
      "cell_type": "code",
      "metadata": {
        "id": "BIkcwjNxtZXD"
      },
      "source": [
        ""
      ],
      "execution_count": 19,
      "outputs": []
    },
    {
      "cell_type": "markdown",
      "metadata": {
        "id": "1Kp0hC_b9v60"
      },
      "source": [
        "<font color='red'>Compute dL/dc_j</font>"
      ]
    },
    {
      "cell_type": "code",
      "metadata": {
        "id": "FAtSYMrc9UqJ"
      },
      "source": [
        "def derivative_dc(user_id,item_id,rating,U,V,mu, alpha):\n",
        "    '''In this function, we will compute dL/dc_j'''\n",
        "    dL_dc_j = 2 * (c_j[item_id]) * alpha - 2*(rating - mu - b_i[user_id] - c_j[item_id] - np.dot(U,V)[user_id][item_id]) #np.dot is used for multiplying matrix U and VT\n",
        "    return dL_dc_j\n"
      ],
      "execution_count": 20,
      "outputs": []
    },
    {
      "cell_type": "markdown",
      "metadata": {
        "id": "lxkAm8aH1SBF"
      },
      "source": [
        "<font color='cyan'>Grader function - 5 </font>"
      ]
    },
    {
      "cell_type": "code",
      "metadata": {
        "id": "RaIN9yie1US8",
        "colab": {
          "base_uri": "https://localhost:8080/",
          "height": 0
        },
        "outputId": "bc0ab531-5aa4-4a52-d9f0-af3119a2e310"
      },
      "source": [
        "def grader_dc(value):\n",
        "    assert(np.round(value,3)==-2.929)\n",
        "    return True\n",
        "U1, Sigma, V1 = randomized_svd(adjacency_matrix, n_components=2,n_iter=5, random_state=24)\n",
        "# Please don't change random state\n",
        "# Here we are considering n_componets = 2 for our convinence\n",
        "r=0.01 \n",
        "value=derivative_dc(58,504,5,U1,V1,mu,alpha)\n",
        "grader_dc(value)"
      ],
      "execution_count": 21,
      "outputs": [
        {
          "output_type": "execute_result",
          "data": {
            "text/plain": [
              "True"
            ]
          },
          "metadata": {},
          "execution_count": 21
        }
      ]
    },
    {
      "cell_type": "markdown",
      "metadata": {
        "id": "lg5XNbDWCIKI"
      },
      "source": [
        "<font color='red'>Compute MSE (mean squared error) for predicted ratings</font>\n"
      ]
    },
    {
      "cell_type": "markdown",
      "metadata": {
        "id": "7WUjNy0TDQX6"
      },
      "source": [
        "for each epoch, print the MSE value"
      ]
    },
    {
      "cell_type": "markdown",
      "metadata": {
        "id": "D2pCy1AKCafw"
      },
      "source": [
        "<pre>\n",
        "for each epoch:\n",
        "\n",
        "    for each pair of (user, movie):\n",
        "\n",
        "        b_i =  b_i - learning_rate * dL/db_i\n",
        "\n",
        "        c_j =  c_j - learning_rate * dL/dc_j\n",
        "\n",
        "predict the ratings with formula\n",
        "</pre>\n",
        "\n",
        "$\\hat{y}_{ij} = \\mu + b_i + c_j + \\text{dot_product}(u_i , v_j) $"
      ]
    },
    {
      "cell_type": "code",
      "metadata": {
        "id": "wxGspS87IviW"
      },
      "source": [
        "u0 = data['user_id'][0]\n",
        "m0 = data['item_id'][0]\n",
        "r0 = data['rating'][0]"
      ],
      "execution_count": 22,
      "outputs": []
    },
    {
      "cell_type": "code",
      "metadata": {
        "id": "m1hD4IDdIvl-"
      },
      "source": [
        "b_i[u0] = b_i[u0] - 0.01 * derivative_db(u0,m0,r0,U,VT,mu,alpha)\n",
        "c_j[m0] = c_j[m0] - 0.01 * derivative_dc(u0,m0,r0,U,VT,mu,alpha)"
      ],
      "execution_count": 23,
      "outputs": []
    },
    {
      "cell_type": "code",
      "metadata": {
        "colab": {
          "base_uri": "https://localhost:8080/",
          "height": 0
        },
        "id": "VyPM-Tv_KTX1",
        "outputId": "79a541d0-2190-4264-e2a5-22baccf4196b"
      },
      "source": [
        "U[u0,:]"
      ],
      "execution_count": 24,
      "outputs": [
        {
          "output_type": "execute_result",
          "data": {
            "text/plain": [
              "array([ 0.03525135,  0.01588283,  0.01476178, -0.06828861,  0.05270592,\n",
              "        0.01506997,  0.08118772,  0.00107447, -0.02226247,  0.02542742,\n",
              "       -0.01496991, -0.00639124, -0.02387486, -0.02676716,  0.03310974,\n",
              "        0.03283066,  0.00834765,  0.07460381,  0.02551229, -0.00065034])"
            ]
          },
          "metadata": {},
          "execution_count": 24
        }
      ]
    },
    {
      "cell_type": "code",
      "metadata": {
        "colab": {
          "base_uri": "https://localhost:8080/",
          "height": 0
        },
        "id": "oRgzR5cuKV-z",
        "outputId": "1c97b0a7-6f55-403e-83e8-ea69abc004c1"
      },
      "source": [
        "VT[:,m0]"
      ],
      "execution_count": 25,
      "outputs": [
        {
          "output_type": "execute_result",
          "data": {
            "text/plain": [
              "array([ 1.74536808e-03,  1.67829433e-03,  7.78886589e-04, -5.81425788e-03,\n",
              "        7.49132421e-03,  2.46167669e-03,  3.54860145e-03,  4.12387673e-03,\n",
              "       -9.87028645e-05, -2.04819960e-03,  8.04031559e-04,  2.61485557e-03,\n",
              "        1.53869224e-03,  4.18519466e-03,  5.88949206e-03,  4.65622745e-03,\n",
              "        3.62784921e-03, -6.48066539e-04,  4.91381293e-03, -2.46384613e-04])"
            ]
          },
          "metadata": {},
          "execution_count": 25
        }
      ]
    },
    {
      "cell_type": "code",
      "metadata": {
        "id": "JBnxeV1mJ50E"
      },
      "source": [
        "y_pred = mu + b_i[u0] + c_j[m0] + np.dot(U[u0,:],VT[:,m0])"
      ],
      "execution_count": 26,
      "outputs": []
    },
    {
      "cell_type": "code",
      "metadata": {
        "colab": {
          "base_uri": "https://localhost:8080/",
          "height": 0
        },
        "id": "GtiU-WORKudT",
        "outputId": "c9541ca0-8044-401a-fe26-5452f8b0c30b"
      },
      "source": [
        "r0"
      ],
      "execution_count": 27,
      "outputs": [
        {
          "output_type": "execute_result",
          "data": {
            "text/plain": [
              "3"
            ]
          },
          "metadata": {},
          "execution_count": 27
        }
      ]
    },
    {
      "cell_type": "code",
      "metadata": {
        "colab": {
          "base_uri": "https://localhost:8080/",
          "height": 0
        },
        "id": "HpU9YWYlKw9_",
        "outputId": "f4e06482-f15d-423f-ae37-9048ba6c735a"
      },
      "source": [
        "print(y_pred)\n",
        "print(r0-y_pred)"
      ],
      "execution_count": 28,
      "outputs": [
        {
          "output_type": "stream",
          "name": "stdout",
          "text": [
            "3.5099047172142583\n",
            "-0.5099047172142583\n"
          ]
        }
      ]
    },
    {
      "cell_type": "code",
      "metadata": {
        "id": "w-VZak8HtZXL"
      },
      "source": [
        "from tqdm import tqdm\n",
        "from sklearn.metrics import mean_squared_error\n",
        "def compute_mean_sq_error(data,U,V,mu,alpha):\n",
        "    y_actual = data['rating']\n",
        "    mean_sq_error, y_predict = [],[]\n",
        "    for epoch in range(10):\n",
        "      for data_point in tqdm(np.array(data)):\n",
        "            user_id = data_point[0]\n",
        "            item_id = data_point[1]\n",
        "            rating = data_point[2]\n",
        "            b_i[user_id] = b_i[user_id] - alpha * derivative_db(user_id,item_id,rating,U,V,mu,alpha)\n",
        "            c_j[item_id] = c_j[item_id] - alpha * derivative_dc(user_id,item_id,rating,U,V,mu,alpha)\n",
        "            y_predict.append(mu + b_i[data_point[0]] + c_j[data_point[1]] + np.dot(U[data_point[0],:],V[:,data_point[1]]))\n",
        "      mean_sq_error.append(mean_squared_error(y_actual,y_predict))\n",
        "      y_predict *= 0\n",
        "    return mean_sq_error"
      ],
      "execution_count": 29,
      "outputs": []
    },
    {
      "cell_type": "code",
      "metadata": {
        "colab": {
          "base_uri": "https://localhost:8080/",
          "height": 0
        },
        "id": "wSCRBPBgtZXM",
        "outputId": "ed4e11aa-5afa-4b64-a928-d61d59483475"
      },
      "source": [
        "MSE = compute_mean_sq_error(data,U,VT,mu,alpha)\n",
        "print(MSE)"
      ],
      "execution_count": 30,
      "outputs": [
        {
          "output_type": "stream",
          "name": "stderr",
          "text": [
            "100%|██████████| 89992/89992 [13:50<00:00, 108.41it/s]\n",
            "100%|██████████| 89992/89992 [13:17<00:00, 112.85it/s]\n",
            "100%|██████████| 89992/89992 [13:50<00:00, 108.32it/s]\n",
            "100%|██████████| 89992/89992 [13:42<00:00, 109.45it/s]\n",
            "100%|██████████| 89992/89992 [13:44<00:00, 109.20it/s]\n",
            "100%|██████████| 89992/89992 [13:49<00:00, 108.48it/s]\n",
            "100%|██████████| 89992/89992 [14:16<00:00, 105.01it/s]\n",
            "100%|██████████| 89992/89992 [14:23<00:00, 104.22it/s]\n",
            "100%|██████████| 89992/89992 [14:07<00:00, 106.20it/s]\n",
            "100%|██████████| 89992/89992 [13:51<00:00, 108.20it/s]"
          ]
        },
        {
          "output_type": "stream",
          "name": "stdout",
          "text": [
            "[0.9055630191591441, 0.8225265929967842, 0.8072431960158395, 0.800890948776938, 0.7976078318227877, 0.7956696655536615, 0.794412125565443, 0.7935361612208677, 0.792891809818384, 0.7923973858177247]\n"
          ]
        },
        {
          "output_type": "stream",
          "name": "stderr",
          "text": [
            "\n"
          ]
        }
      ]
    },
    {
      "cell_type": "code",
      "metadata": {
        "colab": {
          "base_uri": "https://localhost:8080/",
          "height": 312
        },
        "id": "Rhn1-xfBcViV",
        "outputId": "2d07bd6e-cd27-461a-cfae-4a42b09d7ea3"
      },
      "source": [
        "import matplotlib.pyplot as plt\n",
        "\n",
        "epochs = np.arange(1,11,1)\n",
        "plt.plot(epochs,MSE)\n",
        "plt.xlabel('Epochs')\n",
        "plt.ylabel('MSE')\n",
        "plt.title('Epochs vs MSE')"
      ],
      "execution_count": 31,
      "outputs": [
        {
          "output_type": "execute_result",
          "data": {
            "text/plain": [
              "Text(0.5, 1.0, 'Epochs vs MSE')"
            ]
          },
          "metadata": {},
          "execution_count": 31
        },
        {
          "output_type": "display_data",
          "data": {
            "image/png": "[encoded data removed]",
            "text/plain": [
              "<Figure size 432x288 with 1 Axes>"
            ]
          },
          "metadata": {
            "needs_background": "light"
          }
        }
      ]
    },
    {
      "cell_type": "markdown",
      "metadata": {
        "id": "NeWAGkT6C9kq"
      },
      "source": [
        "<br>"
      ]
    },
    {
      "cell_type": "markdown",
      "metadata": {
        "id": "lkIQOOo1C9o7"
      },
      "source": [
        "# <font color='red'> Task 2</font>"
      ]
    },
    {
      "cell_type": "markdown",
      "metadata": {
        "id": "9kl4Ryi_7E_T"
      },
      "source": [
        "- For this task you have to consider the user_matrix U and the user_info.csv file.\n",
        "- You have to consider is_male columns as  output features and rest as input features. Now you have to fit a model by posing this problem as binary classification task.\n",
        "- You can apply any model like Logistic regression or Decision tree and check the performance of the model. \n",
        "- Do plot confusion matrix after fitting your model and write your observations how your model is performing in this task.\n",
        "\n",
        "- Optional work- You can try scaling your U matrix.Scaling means changing the values of n_componenets while performing svd\n",
        "  and then check your results."
      ]
    },
    {
      "cell_type": "code",
      "metadata": {
        "id": "c1FTc39gDdti",
        "colab": {
          "base_uri": "https://localhost:8080/",
          "height": 206
        },
        "outputId": "812df683-684d-4a07-8e54-1c4be91dcecd"
      },
      "source": [
        "import pandas as pd\n",
        "user=pd.read_csv('/content/drive/MyDrive/AI-ML-Assignments/Recommendation System using Truncated SVD/user_info.csv.txt', sep=',')\n",
        "user.head()"
      ],
      "execution_count": 32,
      "outputs": [
        {
          "output_type": "execute_result",
          "data": {
            "text/html": [
              "<div>\n",
              "<style scoped>\n",
              "    .dataframe tbody tr th:only-of-type {\n",
              "        vertical-align: middle;\n",
              "    }\n",
              "\n",
              "    .dataframe tbody tr th {\n",
              "        vertical-align: top;\n",
              "    }\n",
              "\n",
              "    .dataframe thead th {\n",
              "        text-align: right;\n",
              "    }\n",
              "</style>\n",
              "<table border=\"1\" class=\"dataframe\">\n",
              "  <thead>\n",
              "    <tr style=\"text-align: right;\">\n",
              "      <th></th>\n",
              "      <th>user_id</th>\n",
              "      <th>age</th>\n",
              "      <th>is_male</th>\n",
              "      <th>orig_user_id</th>\n",
              "    </tr>\n",
              "  </thead>\n",
              "  <tbody>\n",
              "    <tr>\n",
              "      <th>0</th>\n",
              "      <td>0</td>\n",
              "      <td>24</td>\n",
              "      <td>1</td>\n",
              "      <td>1</td>\n",
              "    </tr>\n",
              "    <tr>\n",
              "      <th>1</th>\n",
              "      <td>1</td>\n",
              "      <td>53</td>\n",
              "      <td>0</td>\n",
              "      <td>2</td>\n",
              "    </tr>\n",
              "    <tr>\n",
              "      <th>2</th>\n",
              "      <td>2</td>\n",
              "      <td>23</td>\n",
              "      <td>1</td>\n",
              "      <td>3</td>\n",
              "    </tr>\n",
              "    <tr>\n",
              "      <th>3</th>\n",
              "      <td>3</td>\n",
              "      <td>24</td>\n",
              "      <td>1</td>\n",
              "      <td>4</td>\n",
              "    </tr>\n",
              "    <tr>\n",
              "      <th>4</th>\n",
              "      <td>4</td>\n",
              "      <td>33</td>\n",
              "      <td>0</td>\n",
              "      <td>5</td>\n",
              "    </tr>\n",
              "  </tbody>\n",
              "</table>\n",
              "</div>"
            ],
            "text/plain": [
              "   user_id  age  is_male  orig_user_id\n",
              "0        0   24        1             1\n",
              "1        1   53        0             2\n",
              "2        2   23        1             3\n",
              "3        3   24        1             4\n",
              "4        4   33        0             5"
            ]
          },
          "metadata": {},
          "execution_count": 32
        }
      ]
    },
    {
      "cell_type": "code",
      "metadata": {
        "id": "s7e_3BBsHpWO",
        "colab": {
          "base_uri": "https://localhost:8080/",
          "height": 0
        },
        "outputId": "6a9557b6-0b9a-4845-e192-978e0d39ceb9"
      },
      "source": [
        "U"
      ],
      "execution_count": 33,
      "outputs": [
        {
          "output_type": "execute_result",
          "data": {
            "text/plain": [
              "array([[ 0.0662257 ,  0.00788857, -0.01253133, ..., -0.02083788,\n",
              "        -0.06543583, -0.09958412],\n",
              "       [ 0.01364432, -0.04889503,  0.05655366, ...,  0.01483133,\n",
              "         0.00731117,  0.00162532],\n",
              "       [ 0.00543826, -0.02512779,  0.02002774, ..., -0.01051827,\n",
              "        -0.0253918 ,  0.00665187],\n",
              "       ...,\n",
              "       [ 0.00738924, -0.02597375,  0.00634334, ..., -0.0342234 ,\n",
              "         0.03405594, -0.0108061 ],\n",
              "       [ 0.02499924,  0.00447792,  0.02605655, ..., -0.02317566,\n",
              "         0.04409229,  0.00455369],\n",
              "       [ 0.04337341, -0.00281488, -0.06077791, ...,  0.01573796,\n",
              "         0.0180218 ,  0.02950242]])"
            ]
          },
          "metadata": {},
          "execution_count": 33
        }
      ]
    },
    {
      "cell_type": "code",
      "metadata": {
        "id": "M3K5ZHmSHpWO"
      },
      "source": [
        "for i in range(1,21):\n",
        "  user[str('f_')+str(i)] = 0"
      ],
      "execution_count": 34,
      "outputs": []
    },
    {
      "cell_type": "code",
      "metadata": {
        "colab": {
          "base_uri": "https://localhost:8080/",
          "height": 226
        },
        "id": "UDjT6ExqgYje",
        "outputId": "61243d67-3f7c-4f5c-f4fc-b0deb111f4bb"
      },
      "source": [
        "user.head()"
      ],
      "execution_count": 35,
      "outputs": [
        {
          "output_type": "execute_result",
          "data": {
            "text/html": [
              "<div>\n",
              "<style scoped>\n",
              "    .dataframe tbody tr th:only-of-type {\n",
              "        vertical-align: middle;\n",
              "    }\n",
              "\n",
              "    .dataframe tbody tr th {\n",
              "        vertical-align: top;\n",
              "    }\n",
              "\n",
              "    .dataframe thead th {\n",
              "        text-align: right;\n",
              "    }\n",
              "</style>\n",
              "<table border=\"1\" class=\"dataframe\">\n",
              "  <thead>\n",
              "    <tr style=\"text-align: right;\">\n",
              "      <th></th>\n",
              "      <th>user_id</th>\n",
              "      <th>age</th>\n",
              "      <th>is_male</th>\n",
              "      <th>orig_user_id</th>\n",
              "      <th>f_1</th>\n",
              "      <th>f_2</th>\n",
              "      <th>f_3</th>\n",
              "      <th>f_4</th>\n",
              "      <th>f_5</th>\n",
              "      <th>f_6</th>\n",
              "      <th>f_7</th>\n",
              "      <th>f_8</th>\n",
              "      <th>f_9</th>\n",
              "      <th>f_10</th>\n",
              "      <th>f_11</th>\n",
              "      <th>f_12</th>\n",
              "      <th>f_13</th>\n",
              "      <th>f_14</th>\n",
              "      <th>f_15</th>\n",
              "      <th>f_16</th>\n",
              "      <th>f_17</th>\n",
              "      <th>f_18</th>\n",
              "      <th>f_19</th>\n",
              "      <th>f_20</th>\n",
              "    </tr>\n",
              "  </thead>\n",
              "  <tbody>\n",
              "    <tr>\n",
              "      <th>0</th>\n",
              "      <td>0</td>\n",
              "      <td>24</td>\n",
              "      <td>1</td>\n",
              "      <td>1</td>\n",
              "      <td>0</td>\n",
              "      <td>0</td>\n",
              "      <td>0</td>\n",
              "      <td>0</td>\n",
              "      <td>0</td>\n",
              "      <td>0</td>\n",
              "      <td>0</td>\n",
              "      <td>0</td>\n",
              "      <td>0</td>\n",
              "      <td>0</td>\n",
              "      <td>0</td>\n",
              "      <td>0</td>\n",
              "      <td>0</td>\n",
              "      <td>0</td>\n",
              "      <td>0</td>\n",
              "      <td>0</td>\n",
              "      <td>0</td>\n",
              "      <td>0</td>\n",
              "      <td>0</td>\n",
              "      <td>0</td>\n",
              "    </tr>\n",
              "    <tr>\n",
              "      <th>1</th>\n",
              "      <td>1</td>\n",
              "      <td>53</td>\n",
              "      <td>0</td>\n",
              "      <td>2</td>\n",
              "      <td>0</td>\n",
              "      <td>0</td>\n",
              "      <td>0</td>\n",
              "      <td>0</td>\n",
              "      <td>0</td>\n",
              "      <td>0</td>\n",
              "      <td>0</td>\n",
              "      <td>0</td>\n",
              "      <td>0</td>\n",
              "      <td>0</td>\n",
              "      <td>0</td>\n",
              "      <td>0</td>\n",
              "      <td>0</td>\n",
              "      <td>0</td>\n",
              "      <td>0</td>\n",
              "      <td>0</td>\n",
              "      <td>0</td>\n",
              "      <td>0</td>\n",
              "      <td>0</td>\n",
              "      <td>0</td>\n",
              "    </tr>\n",
              "    <tr>\n",
              "      <th>2</th>\n",
              "      <td>2</td>\n",
              "      <td>23</td>\n",
              "      <td>1</td>\n",
              "      <td>3</td>\n",
              "      <td>0</td>\n",
              "      <td>0</td>\n",
              "      <td>0</td>\n",
              "      <td>0</td>\n",
              "      <td>0</td>\n",
              "      <td>0</td>\n",
              "      <td>0</td>\n",
              "      <td>0</td>\n",
              "      <td>0</td>\n",
              "      <td>0</td>\n",
              "      <td>0</td>\n",
              "      <td>0</td>\n",
              "      <td>0</td>\n",
              "      <td>0</td>\n",
              "      <td>0</td>\n",
              "      <td>0</td>\n",
              "      <td>0</td>\n",
              "      <td>0</td>\n",
              "      <td>0</td>\n",
              "      <td>0</td>\n",
              "    </tr>\n",
              "    <tr>\n",
              "      <th>3</th>\n",
              "      <td>3</td>\n",
              "      <td>24</td>\n",
              "      <td>1</td>\n",
              "      <td>4</td>\n",
              "      <td>0</td>\n",
              "      <td>0</td>\n",
              "      <td>0</td>\n",
              "      <td>0</td>\n",
              "      <td>0</td>\n",
              "      <td>0</td>\n",
              "      <td>0</td>\n",
              "      <td>0</td>\n",
              "      <td>0</td>\n",
              "      <td>0</td>\n",
              "      <td>0</td>\n",
              "      <td>0</td>\n",
              "      <td>0</td>\n",
              "      <td>0</td>\n",
              "      <td>0</td>\n",
              "      <td>0</td>\n",
              "      <td>0</td>\n",
              "      <td>0</td>\n",
              "      <td>0</td>\n",
              "      <td>0</td>\n",
              "    </tr>\n",
              "    <tr>\n",
              "      <th>4</th>\n",
              "      <td>4</td>\n",
              "      <td>33</td>\n",
              "      <td>0</td>\n",
              "      <td>5</td>\n",
              "      <td>0</td>\n",
              "      <td>0</td>\n",
              "      <td>0</td>\n",
              "      <td>0</td>\n",
              "      <td>0</td>\n",
              "      <td>0</td>\n",
              "      <td>0</td>\n",
              "      <td>0</td>\n",
              "      <td>0</td>\n",
              "      <td>0</td>\n",
              "      <td>0</td>\n",
              "      <td>0</td>\n",
              "      <td>0</td>\n",
              "      <td>0</td>\n",
              "      <td>0</td>\n",
              "      <td>0</td>\n",
              "      <td>0</td>\n",
              "      <td>0</td>\n",
              "      <td>0</td>\n",
              "      <td>0</td>\n",
              "    </tr>\n",
              "  </tbody>\n",
              "</table>\n",
              "</div>"
            ],
            "text/plain": [
              "   user_id  age  is_male  orig_user_id  f_1  ...  f_16  f_17  f_18  f_19  f_20\n",
              "0        0   24        1             1    0  ...     0     0     0     0     0\n",
              "1        1   53        0             2    0  ...     0     0     0     0     0\n",
              "2        2   23        1             3    0  ...     0     0     0     0     0\n",
              "3        3   24        1             4    0  ...     0     0     0     0     0\n",
              "4        4   33        0             5    0  ...     0     0     0     0     0\n",
              "\n",
              "[5 rows x 24 columns]"
            ]
          },
          "metadata": {},
          "execution_count": 35
        }
      ]
    },
    {
      "cell_type": "code",
      "metadata": {
        "colab": {
          "base_uri": "https://localhost:8080/",
          "height": 0
        },
        "id": "Nkhqk3cWhZwQ",
        "outputId": "362a9927-9ba9-432c-c4c0-5002f042e3a7"
      },
      "source": [
        "user.loc[0,'f_1':'f_20']"
      ],
      "execution_count": 36,
      "outputs": [
        {
          "output_type": "execute_result",
          "data": {
            "text/plain": [
              "f_1     0\n",
              "f_2     0\n",
              "f_3     0\n",
              "f_4     0\n",
              "f_5     0\n",
              "f_6     0\n",
              "f_7     0\n",
              "f_8     0\n",
              "f_9     0\n",
              "f_10    0\n",
              "f_11    0\n",
              "f_12    0\n",
              "f_13    0\n",
              "f_14    0\n",
              "f_15    0\n",
              "f_16    0\n",
              "f_17    0\n",
              "f_18    0\n",
              "f_19    0\n",
              "f_20    0\n",
              "Name: 0, dtype: int64"
            ]
          },
          "metadata": {},
          "execution_count": 36
        }
      ]
    },
    {
      "cell_type": "code",
      "metadata": {
        "colab": {
          "base_uri": "https://localhost:8080/",
          "height": 0
        },
        "id": "l1wZyaRxiGNS",
        "outputId": "b9b96d43-0d8c-47af-d4ab-041f0fdd4adf"
      },
      "source": [
        "U[0]"
      ],
      "execution_count": 37,
      "outputs": [
        {
          "output_type": "execute_result",
          "data": {
            "text/plain": [
              "array([ 0.0662257 ,  0.00788857, -0.01253133, -0.08615456,  0.02486547,\n",
              "        0.0066645 ,  0.07997384, -0.02743249,  0.0686735 ,  0.0204221 ,\n",
              "       -0.02142243,  0.02551735, -0.0366062 ,  0.03772546,  0.01355219,\n",
              "        0.00535297,  0.09296851, -0.02083788, -0.06543583, -0.09958412])"
            ]
          },
          "metadata": {},
          "execution_count": 37
        }
      ]
    },
    {
      "cell_type": "code",
      "metadata": {
        "id": "3quptG2ahr-U"
      },
      "source": [
        "for i in range(0,len(user)):\n",
        "  user.loc[i,'f_1':'f_20'] = U[i]"
      ],
      "execution_count": 38,
      "outputs": []
    },
    {
      "cell_type": "code",
      "metadata": {
        "id": "cuoYIc0kiUmG"
      },
      "source": [
        "user.drop(['user_id','orig_user_id'],axis=1,inplace=True)"
      ],
      "execution_count": 39,
      "outputs": []
    },
    {
      "cell_type": "code",
      "metadata": {
        "colab": {
          "base_uri": "https://localhost:8080/",
          "height": 443
        },
        "id": "jBtMcsScBero",
        "outputId": "bf556eb9-43a1-480a-8f78-e51e0d5356ce"
      },
      "source": [
        "user"
      ],
      "execution_count": 40,
      "outputs": [
        {
          "output_type": "execute_result",
          "data": {
            "text/html": [
              "<div>\n",
              "<style scoped>\n",
              "    .dataframe tbody tr th:only-of-type {\n",
              "        vertical-align: middle;\n",
              "    }\n",
              "\n",
              "    .dataframe tbody tr th {\n",
              "        vertical-align: top;\n",
              "    }\n",
              "\n",
              "    .dataframe thead th {\n",
              "        text-align: right;\n",
              "    }\n",
              "</style>\n",
              "<table border=\"1\" class=\"dataframe\">\n",
              "  <thead>\n",
              "    <tr style=\"text-align: right;\">\n",
              "      <th></th>\n",
              "      <th>age</th>\n",
              "      <th>is_male</th>\n",
              "      <th>f_1</th>\n",
              "      <th>f_2</th>\n",
              "      <th>f_3</th>\n",
              "      <th>f_4</th>\n",
              "      <th>f_5</th>\n",
              "      <th>f_6</th>\n",
              "      <th>f_7</th>\n",
              "      <th>f_8</th>\n",
              "      <th>f_9</th>\n",
              "      <th>f_10</th>\n",
              "      <th>f_11</th>\n",
              "      <th>f_12</th>\n",
              "      <th>f_13</th>\n",
              "      <th>f_14</th>\n",
              "      <th>f_15</th>\n",
              "      <th>f_16</th>\n",
              "      <th>f_17</th>\n",
              "      <th>f_18</th>\n",
              "      <th>f_19</th>\n",
              "      <th>f_20</th>\n",
              "    </tr>\n",
              "  </thead>\n",
              "  <tbody>\n",
              "    <tr>\n",
              "      <th>0</th>\n",
              "      <td>24</td>\n",
              "      <td>1</td>\n",
              "      <td>0.066226</td>\n",
              "      <td>0.007889</td>\n",
              "      <td>-0.012531</td>\n",
              "      <td>-0.086155</td>\n",
              "      <td>0.024865</td>\n",
              "      <td>0.006664</td>\n",
              "      <td>0.079974</td>\n",
              "      <td>-0.027432</td>\n",
              "      <td>0.068674</td>\n",
              "      <td>0.020422</td>\n",
              "      <td>-0.021422</td>\n",
              "      <td>0.025517</td>\n",
              "      <td>-0.036606</td>\n",
              "      <td>0.037725</td>\n",
              "      <td>0.013552</td>\n",
              "      <td>0.005353</td>\n",
              "      <td>0.092969</td>\n",
              "      <td>-0.020838</td>\n",
              "      <td>-0.065436</td>\n",
              "      <td>-0.099584</td>\n",
              "    </tr>\n",
              "    <tr>\n",
              "      <th>1</th>\n",
              "      <td>53</td>\n",
              "      <td>0</td>\n",
              "      <td>0.013644</td>\n",
              "      <td>-0.048895</td>\n",
              "      <td>0.056554</td>\n",
              "      <td>0.015809</td>\n",
              "      <td>-0.012034</td>\n",
              "      <td>0.017736</td>\n",
              "      <td>0.010680</td>\n",
              "      <td>-0.010310</td>\n",
              "      <td>0.028367</td>\n",
              "      <td>-0.008979</td>\n",
              "      <td>0.058174</td>\n",
              "      <td>-0.030988</td>\n",
              "      <td>-0.009746</td>\n",
              "      <td>0.054149</td>\n",
              "      <td>-0.002614</td>\n",
              "      <td>-0.025013</td>\n",
              "      <td>-0.010847</td>\n",
              "      <td>0.014831</td>\n",
              "      <td>0.007311</td>\n",
              "      <td>0.001625</td>\n",
              "    </tr>\n",
              "    <tr>\n",
              "      <th>2</th>\n",
              "      <td>23</td>\n",
              "      <td>1</td>\n",
              "      <td>0.005438</td>\n",
              "      <td>-0.025128</td>\n",
              "      <td>0.020028</td>\n",
              "      <td>0.032831</td>\n",
              "      <td>0.035080</td>\n",
              "      <td>0.001918</td>\n",
              "      <td>0.007691</td>\n",
              "      <td>-0.000994</td>\n",
              "      <td>-0.021095</td>\n",
              "      <td>-0.003269</td>\n",
              "      <td>0.001582</td>\n",
              "      <td>0.010316</td>\n",
              "      <td>0.000930</td>\n",
              "      <td>-0.019819</td>\n",
              "      <td>-0.001544</td>\n",
              "      <td>0.009305</td>\n",
              "      <td>0.014843</td>\n",
              "      <td>-0.010518</td>\n",
              "      <td>-0.025392</td>\n",
              "      <td>0.006652</td>\n",
              "    </tr>\n",
              "    <tr>\n",
              "      <th>3</th>\n",
              "      <td>24</td>\n",
              "      <td>1</td>\n",
              "      <td>0.005704</td>\n",
              "      <td>-0.018211</td>\n",
              "      <td>0.010898</td>\n",
              "      <td>0.021867</td>\n",
              "      <td>0.013919</td>\n",
              "      <td>-0.014195</td>\n",
              "      <td>0.012268</td>\n",
              "      <td>-0.009085</td>\n",
              "      <td>-0.012989</td>\n",
              "      <td>0.006091</td>\n",
              "      <td>-0.000450</td>\n",
              "      <td>-0.013302</td>\n",
              "      <td>-0.002233</td>\n",
              "      <td>-0.036347</td>\n",
              "      <td>0.000830</td>\n",
              "      <td>0.010754</td>\n",
              "      <td>0.018670</td>\n",
              "      <td>-0.016260</td>\n",
              "      <td>-0.001891</td>\n",
              "      <td>-0.015937</td>\n",
              "    </tr>\n",
              "    <tr>\n",
              "      <th>4</th>\n",
              "      <td>33</td>\n",
              "      <td>0</td>\n",
              "      <td>0.034122</td>\n",
              "      <td>0.009005</td>\n",
              "      <td>-0.044054</td>\n",
              "      <td>-0.016050</td>\n",
              "      <td>0.004328</td>\n",
              "      <td>-0.021504</td>\n",
              "      <td>0.095581</td>\n",
              "      <td>0.079454</td>\n",
              "      <td>-0.017336</td>\n",
              "      <td>0.029383</td>\n",
              "      <td>0.016529</td>\n",
              "      <td>-0.046753</td>\n",
              "      <td>0.005256</td>\n",
              "      <td>0.044342</td>\n",
              "      <td>0.002911</td>\n",
              "      <td>-0.004332</td>\n",
              "      <td>-0.013048</td>\n",
              "      <td>-0.016713</td>\n",
              "      <td>0.055877</td>\n",
              "      <td>0.015468</td>\n",
              "    </tr>\n",
              "    <tr>\n",
              "      <th>...</th>\n",
              "      <td>...</td>\n",
              "      <td>...</td>\n",
              "      <td>...</td>\n",
              "      <td>...</td>\n",
              "      <td>...</td>\n",
              "      <td>...</td>\n",
              "      <td>...</td>\n",
              "      <td>...</td>\n",
              "      <td>...</td>\n",
              "      <td>...</td>\n",
              "      <td>...</td>\n",
              "      <td>...</td>\n",
              "      <td>...</td>\n",
              "      <td>...</td>\n",
              "      <td>...</td>\n",
              "      <td>...</td>\n",
              "      <td>...</td>\n",
              "      <td>...</td>\n",
              "      <td>...</td>\n",
              "      <td>...</td>\n",
              "      <td>...</td>\n",
              "      <td>...</td>\n",
              "    </tr>\n",
              "    <tr>\n",
              "      <th>938</th>\n",
              "      <td>26</td>\n",
              "      <td>0</td>\n",
              "      <td>0.010350</td>\n",
              "      <td>-0.038006</td>\n",
              "      <td>0.006501</td>\n",
              "      <td>-0.013992</td>\n",
              "      <td>-0.051220</td>\n",
              "      <td>-0.001720</td>\n",
              "      <td>-0.037139</td>\n",
              "      <td>0.010827</td>\n",
              "      <td>0.010609</td>\n",
              "      <td>0.002216</td>\n",
              "      <td>-0.015391</td>\n",
              "      <td>-0.015912</td>\n",
              "      <td>-0.014338</td>\n",
              "      <td>0.014361</td>\n",
              "      <td>0.016392</td>\n",
              "      <td>0.024513</td>\n",
              "      <td>0.007037</td>\n",
              "      <td>0.001566</td>\n",
              "      <td>0.041146</td>\n",
              "      <td>0.007969</td>\n",
              "    </tr>\n",
              "    <tr>\n",
              "      <th>939</th>\n",
              "      <td>32</td>\n",
              "      <td>1</td>\n",
              "      <td>0.031624</td>\n",
              "      <td>-0.007730</td>\n",
              "      <td>0.032983</td>\n",
              "      <td>0.013861</td>\n",
              "      <td>0.023618</td>\n",
              "      <td>-0.008445</td>\n",
              "      <td>0.054687</td>\n",
              "      <td>-0.031128</td>\n",
              "      <td>-0.015620</td>\n",
              "      <td>0.000470</td>\n",
              "      <td>-0.005155</td>\n",
              "      <td>-0.033786</td>\n",
              "      <td>0.048938</td>\n",
              "      <td>0.055300</td>\n",
              "      <td>0.041009</td>\n",
              "      <td>-0.017488</td>\n",
              "      <td>-0.051797</td>\n",
              "      <td>0.030976</td>\n",
              "      <td>0.021360</td>\n",
              "      <td>0.012123</td>\n",
              "    </tr>\n",
              "    <tr>\n",
              "      <th>940</th>\n",
              "      <td>20</td>\n",
              "      <td>1</td>\n",
              "      <td>0.007389</td>\n",
              "      <td>-0.025974</td>\n",
              "      <td>0.006343</td>\n",
              "      <td>-0.017067</td>\n",
              "      <td>-0.007398</td>\n",
              "      <td>-0.020793</td>\n",
              "      <td>0.015483</td>\n",
              "      <td>0.015074</td>\n",
              "      <td>0.000839</td>\n",
              "      <td>-0.004883</td>\n",
              "      <td>-0.009052</td>\n",
              "      <td>0.007588</td>\n",
              "      <td>-0.002934</td>\n",
              "      <td>-0.016333</td>\n",
              "      <td>0.003610</td>\n",
              "      <td>-0.021191</td>\n",
              "      <td>0.001936</td>\n",
              "      <td>-0.034223</td>\n",
              "      <td>0.034056</td>\n",
              "      <td>-0.010806</td>\n",
              "    </tr>\n",
              "    <tr>\n",
              "      <th>941</th>\n",
              "      <td>48</td>\n",
              "      <td>0</td>\n",
              "      <td>0.024999</td>\n",
              "      <td>0.004478</td>\n",
              "      <td>0.026057</td>\n",
              "      <td>0.077342</td>\n",
              "      <td>-0.000768</td>\n",
              "      <td>-0.038294</td>\n",
              "      <td>-0.010356</td>\n",
              "      <td>-0.016381</td>\n",
              "      <td>-0.011489</td>\n",
              "      <td>-0.032058</td>\n",
              "      <td>-0.011245</td>\n",
              "      <td>0.042522</td>\n",
              "      <td>0.029924</td>\n",
              "      <td>0.026962</td>\n",
              "      <td>-0.036234</td>\n",
              "      <td>0.013300</td>\n",
              "      <td>-0.007769</td>\n",
              "      <td>-0.023176</td>\n",
              "      <td>0.044092</td>\n",
              "      <td>0.004554</td>\n",
              "    </tr>\n",
              "    <tr>\n",
              "      <th>942</th>\n",
              "      <td>22</td>\n",
              "      <td>1</td>\n",
              "      <td>0.043373</td>\n",
              "      <td>-0.002815</td>\n",
              "      <td>-0.060778</td>\n",
              "      <td>-0.031584</td>\n",
              "      <td>0.039834</td>\n",
              "      <td>0.006383</td>\n",
              "      <td>-0.040963</td>\n",
              "      <td>-0.069216</td>\n",
              "      <td>0.005898</td>\n",
              "      <td>-0.044283</td>\n",
              "      <td>0.080109</td>\n",
              "      <td>-0.021649</td>\n",
              "      <td>0.005338</td>\n",
              "      <td>-0.057507</td>\n",
              "      <td>-0.033412</td>\n",
              "      <td>-0.031034</td>\n",
              "      <td>-0.011210</td>\n",
              "      <td>0.015738</td>\n",
              "      <td>0.018022</td>\n",
              "      <td>0.029502</td>\n",
              "    </tr>\n",
              "  </tbody>\n",
              "</table>\n",
              "<p>943 rows × 22 columns</p>\n",
              "</div>"
            ],
            "text/plain": [
              "     age  is_male       f_1       f_2  ...      f_17      f_18      f_19      f_20\n",
              "0     24        1  0.066226  0.007889  ...  0.092969 -0.020838 -0.065436 -0.099584\n",
              "1     53        0  0.013644 -0.048895  ... -0.010847  0.014831  0.007311  0.001625\n",
              "2     23        1  0.005438 -0.025128  ...  0.014843 -0.010518 -0.025392  0.006652\n",
              "3     24        1  0.005704 -0.018211  ...  0.018670 -0.016260 -0.001891 -0.015937\n",
              "4     33        0  0.034122  0.009005  ... -0.013048 -0.016713  0.055877  0.015468\n",
              "..   ...      ...       ...       ...  ...       ...       ...       ...       ...\n",
              "938   26        0  0.010350 -0.038006  ...  0.007037  0.001566  0.041146  0.007969\n",
              "939   32        1  0.031624 -0.007730  ... -0.051797  0.030976  0.021360  0.012123\n",
              "940   20        1  0.007389 -0.025974  ...  0.001936 -0.034223  0.034056 -0.010806\n",
              "941   48        0  0.024999  0.004478  ... -0.007769 -0.023176  0.044092  0.004554\n",
              "942   22        1  0.043373 -0.002815  ... -0.011210  0.015738  0.018022  0.029502\n",
              "\n",
              "[943 rows x 22 columns]"
            ]
          },
          "metadata": {},
          "execution_count": 40
        }
      ]
    },
    {
      "cell_type": "code",
      "metadata": {
        "id": "4uGSVSb_2Ia-"
      },
      "source": [
        "x = user.drop('is_male',axis=1)\n",
        "y = user['is_male']"
      ],
      "execution_count": 41,
      "outputs": []
    },
    {
      "cell_type": "code",
      "metadata": {
        "id": "y7qn95gA4Xxk"
      },
      "source": [
        "from sklearn.model_selection import train_test_split\n",
        "\n",
        "x_train,x_test,y_train,y_test = train_test_split(x,y,test_size=0.33)"
      ],
      "execution_count": 42,
      "outputs": []
    },
    {
      "cell_type": "code",
      "metadata": {
        "colab": {
          "base_uri": "https://localhost:8080/",
          "height": 0
        },
        "id": "iRdH7Ivo4nSx",
        "outputId": "d5fa129e-8c74-47b3-9694-3843d144401e"
      },
      "source": [
        "print(x_train.shape)\n",
        "print(y_train.shape)"
      ],
      "execution_count": 43,
      "outputs": [
        {
          "output_type": "stream",
          "name": "stdout",
          "text": [
            "(631, 21)\n",
            "(631,)\n"
          ]
        }
      ]
    },
    {
      "cell_type": "code",
      "metadata": {
        "colab": {
          "base_uri": "https://localhost:8080/",
          "height": 0
        },
        "id": "LngKj4cv2ef2",
        "outputId": "0e259b79-d86f-420c-ce8c-8f852651de4e"
      },
      "source": [
        "from sklearn.linear_model import LogisticRegression\n",
        "model = LogisticRegression(C=1.0, random_state=1679)\n",
        "model.fit(x_train,y_train)"
      ],
      "execution_count": 44,
      "outputs": [
        {
          "output_type": "execute_result",
          "data": {
            "text/plain": [
              "LogisticRegression(random_state=1679)"
            ]
          },
          "metadata": {},
          "execution_count": 44
        }
      ]
    },
    {
      "cell_type": "code",
      "metadata": {
        "id": "xsc0r11k3czT"
      },
      "source": [
        "y_pred = model.predict(x_test)"
      ],
      "execution_count": 45,
      "outputs": []
    },
    {
      "cell_type": "code",
      "metadata": {
        "id": "_42OI5HN3qb8"
      },
      "source": [
        "from sklearn.metrics import confusion_matrix\n",
        "\n",
        "cm = confusion_matrix(y_test,y_pred)"
      ],
      "execution_count": 46,
      "outputs": []
    },
    {
      "cell_type": "code",
      "metadata": {
        "colab": {
          "base_uri": "https://localhost:8080/",
          "height": 0
        },
        "id": "myvtozji5l8z",
        "outputId": "aa84634d-4d3a-4d96-ebe1-83188551cefd"
      },
      "source": [
        "cm"
      ],
      "execution_count": 47,
      "outputs": [
        {
          "output_type": "execute_result",
          "data": {
            "text/plain": [
              "array([[  0,  95],\n",
              "       [  0, 217]])"
            ]
          },
          "metadata": {},
          "execution_count": 47
        }
      ]
    },
    {
      "cell_type": "code",
      "metadata": {
        "colab": {
          "base_uri": "https://localhost:8080/",
          "height": 298
        },
        "id": "DFxsJlOy5rjM",
        "outputId": "0787c94b-93c4-4b04-aeef-4572a5998d59"
      },
      "source": [
        "import seaborn as sns\n",
        "sns.heatmap(cm,annot=True,fmt='4d', xticklabels=['Predicted Yes','Predicted No'],yticklabels=['Actual Yes','Actual No'])\n",
        "plt.title('Confusion Matrix')"
      ],
      "execution_count": 48,
      "outputs": [
        {
          "output_type": "execute_result",
          "data": {
            "text/plain": [
              "Text(0.5, 1.0, 'Confusion Matrix')"
            ]
          },
          "metadata": {},
          "execution_count": 48
        },
        {
          "output_type": "display_data",
          "data": {
            "image/png": "[encoded data removed]",
            "text/plain": [
              "<Figure size 432x288 with 2 Axes>"
            ]
          },
          "metadata": {
            "needs_background": "light"
          }
        }
      ]
    },
    {
      "cell_type": "code",
      "metadata": {
        "id": "XXm-HUi-7Tnv"
      },
      "source": [
        "f_1_is_not_male = user[user['is_male']==0]['f_1']"
      ],
      "execution_count": 49,
      "outputs": []
    },
    {
      "cell_type": "code",
      "metadata": {
        "id": "KVITheb--QjE"
      },
      "source": [
        "f_1_is_male = user[user['is_male']!=0]['f_1']"
      ],
      "execution_count": 50,
      "outputs": []
    },
    {
      "cell_type": "code",
      "metadata": {
        "colab": {
          "base_uri": "https://localhost:8080/",
          "height": 314
        },
        "id": "LSpZDiJ39cnb",
        "outputId": "1c0bc40b-ad5f-44b7-e0aa-c2884a28dba7"
      },
      "source": [
        "sns.violinplot(x = f_1_is_not_male)\n",
        "plt.title('Univariate Analysis of f_1 where is_male=0')"
      ],
      "execution_count": 51,
      "outputs": [
        {
          "output_type": "execute_result",
          "data": {
            "text/plain": [
              "Text(0.5, 1.0, 'Univariate Analysis of f_1 where is_male=0')"
            ]
          },
          "metadata": {},
          "execution_count": 51
        },
        {
          "output_type": "display_data",
          "data": {
            "image/png": "[encoded data removed]",
            "text/plain": [
              "<Figure size 432x288 with 1 Axes>"
            ]
          },
          "metadata": {
            "needs_background": "light"
          }
        }
      ]
    },
    {
      "cell_type": "code",
      "metadata": {
        "colab": {
          "base_uri": "https://localhost:8080/",
          "height": 314
        },
        "id": "ZScWOdNZ-dp7",
        "outputId": "1e118897-055a-44ac-bf82-60f0619fa83c"
      },
      "source": [
        "sns.violinplot(x = f_1_is_male)\n",
        "plt.title('Univariate Analysis of f_1 where is_male=1')"
      ],
      "execution_count": 52,
      "outputs": [
        {
          "output_type": "execute_result",
          "data": {
            "text/plain": [
              "Text(0.5, 1.0, 'Univariate Analysis of f_1 where is_male=1')"
            ]
          },
          "metadata": {},
          "execution_count": 52
        },
        {
          "output_type": "display_data",
          "data": {
            "image/png": "[encoded data removed]",
            "text/plain": [
              "<Figure size 432x288 with 1 Axes>"
            ]
          },
          "metadata": {
            "needs_background": "light"
          }
        }
      ]
    },
    {
      "cell_type": "markdown",
      "metadata": {
        "id": "sOuUk4xg9NGW"
      },
      "source": [
        "For example, here we took feature f_1 w.r.to target, is_male=0, is_male!=0\n",
        "\n",
        "The above plot is the violin plot of f_1 of these two categories.\n",
        "\n",
        "There is no major difference between the distribution of data between these two categories. Henceforth Logistic regression cant abe to study the inferences between the features, hence predicting everything as negative"
      ]
    },
    {
      "cell_type": "code",
      "metadata": {
        "id": "7YtMgq5D-Ryi"
      },
      "source": [
        ""
      ],
      "execution_count": null,
      "outputs": []
    }
  ]
}