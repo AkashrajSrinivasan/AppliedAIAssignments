{
  "nbformat": 4,
  "nbformat_minor": 0,
  "metadata": {
    "colab": {
      "name": "SQL sample queries.ipynb",
      "provenance": [],
      "collapsed_sections": []
    },
    "kernelspec": {
      "display_name": "Python 3",
      "language": "python",
      "name": "python3"
    },
    "language_info": {
      "codemirror_mode": {
        "name": "ipython",
        "version": 3
      },
      "file_extension": ".py",
      "mimetype": "text/x-python",
      "name": "python",
      "nbconvert_exporter": "python",
      "pygments_lexer": "ipython3",
      "version": "3.6.2"
    }
  },
  "cells": [
    {
      "cell_type": "markdown",
      "metadata": {
        "id": "hmzI5oZ6E_Hp"
      },
      "source": [
        "# SQL Assignment"
      ]
    },
    {
      "cell_type": "code",
      "metadata": {
        "id": "wso5pGwnE_Ht"
      },
      "source": [
        "import pandas as pd\n",
        "import sqlite3\n",
        "\n",
        "from IPython.display import display, HTML"
      ],
      "execution_count": 29,
      "outputs": []
    },
    {
      "cell_type": "code",
      "metadata": {
        "id": "uMYMAPLm23sp"
      },
      "source": [
        "# Note that this is not the same db we have used in course videos, please download from this link\n",
        "# https://drive.google.com/file/d/1O-1-L1DdNxEK6O6nG2jS31MbrMh-OnXM/view?usp=sharing"
      ],
      "execution_count": 30,
      "outputs": []
    },
    {
      "cell_type": "code",
      "metadata": {
        "colab": {
          "base_uri": "https://localhost:8080/",
          "height": 0
        },
        "id": "BadQ1mpeY_N7",
        "outputId": "b5f90dc6-5e96-44ea-e6c1-a9e0259bdfca"
      },
      "source": [
        "from google.colab import drive\n",
        "drive.mount('/content/drive')"
      ],
      "execution_count": 31,
      "outputs": [
        {
          "output_type": "stream",
          "name": "stdout",
          "text": [
            "Drive already mounted at /content/drive; to attempt to forcibly remount, call drive.mount(\"/content/drive\", force_remount=True).\n"
          ]
        }
      ]
    },
    {
      "cell_type": "code",
      "metadata": {
        "id": "xrUl9ShkE_H0"
      },
      "source": [
        "conn = sqlite3.connect(\"/content/drive/MyDrive/AI-ML-Assignments/SQL Assignment/Db-IMDB-Assignment.db\")"
      ],
      "execution_count": 32,
      "outputs": []
    },
    {
      "cell_type": "markdown",
      "metadata": {
        "id": "Z_ADQl2BE_H6"
      },
      "source": [
        "#### Overview of all tables"
      ]
    },
    {
      "cell_type": "code",
      "metadata": {
        "id": "7ZfheusYE_H7",
        "scrolled": true
      },
      "source": [
        "tables = pd.read_sql_query(\"SELECT NAME AS 'Table_Name' FROM sqlite_master WHERE type='table'\",conn)\n",
        "tables = tables[\"Table_Name\"].values.tolist()"
      ],
      "execution_count": 33,
      "outputs": []
    },
    {
      "cell_type": "code",
      "metadata": {
        "id": "f3zLh5FGE_H_",
        "scrolled": true,
        "colab": {
          "base_uri": "https://localhost:8080/",
          "height": 2907
        },
        "outputId": "cf7a22fb-f5ff-4d05-9acd-bcf5f02ab5bc"
      },
      "source": [
        "for table in tables:\n",
        "    query = \"PRAGMA TABLE_INFO({})\".format(table)\n",
        "    schema = pd.read_sql_query(query,conn)\n",
        "    print(\"Schema of\",table)\n",
        "    display(schema)\n",
        "    print(\"-\"*100)\n",
        "    print(\"\\n\")"
      ],
      "execution_count": 34,
      "outputs": [
        {
          "output_type": "stream",
          "name": "stdout",
          "text": [
            "Schema of Movie\n"
          ]
        },
        {
          "output_type": "display_data",
          "data": {
            "text/html": [
              "<div>\n",
              "<style scoped>\n",
              "    .dataframe tbody tr th:only-of-type {\n",
              "        vertical-align: middle;\n",
              "    }\n",
              "\n",
              "    .dataframe tbody tr th {\n",
              "        vertical-align: top;\n",
              "    }\n",
              "\n",
              "    .dataframe thead th {\n",
              "        text-align: right;\n",
              "    }\n",
              "</style>\n",
              "<table border=\"1\" class=\"dataframe\">\n",
              "  <thead>\n",
              "    <tr style=\"text-align: right;\">\n",
              "      <th></th>\n",
              "      <th>cid</th>\n",
              "      <th>name</th>\n",
              "      <th>type</th>\n",
              "      <th>notnull</th>\n",
              "      <th>dflt_value</th>\n",
              "      <th>pk</th>\n",
              "    </tr>\n",
              "  </thead>\n",
              "  <tbody>\n",
              "    <tr>\n",
              "      <th>0</th>\n",
              "      <td>0</td>\n",
              "      <td>index</td>\n",
              "      <td>INTEGER</td>\n",
              "      <td>0</td>\n",
              "      <td>None</td>\n",
              "      <td>0</td>\n",
              "    </tr>\n",
              "    <tr>\n",
              "      <th>1</th>\n",
              "      <td>1</td>\n",
              "      <td>MID</td>\n",
              "      <td>TEXT</td>\n",
              "      <td>0</td>\n",
              "      <td>None</td>\n",
              "      <td>0</td>\n",
              "    </tr>\n",
              "    <tr>\n",
              "      <th>2</th>\n",
              "      <td>2</td>\n",
              "      <td>title</td>\n",
              "      <td>TEXT</td>\n",
              "      <td>0</td>\n",
              "      <td>None</td>\n",
              "      <td>0</td>\n",
              "    </tr>\n",
              "    <tr>\n",
              "      <th>3</th>\n",
              "      <td>3</td>\n",
              "      <td>year</td>\n",
              "      <td>TEXT</td>\n",
              "      <td>0</td>\n",
              "      <td>None</td>\n",
              "      <td>0</td>\n",
              "    </tr>\n",
              "    <tr>\n",
              "      <th>4</th>\n",
              "      <td>4</td>\n",
              "      <td>rating</td>\n",
              "      <td>REAL</td>\n",
              "      <td>0</td>\n",
              "      <td>None</td>\n",
              "      <td>0</td>\n",
              "    </tr>\n",
              "    <tr>\n",
              "      <th>5</th>\n",
              "      <td>5</td>\n",
              "      <td>num_votes</td>\n",
              "      <td>INTEGER</td>\n",
              "      <td>0</td>\n",
              "      <td>None</td>\n",
              "      <td>0</td>\n",
              "    </tr>\n",
              "  </tbody>\n",
              "</table>\n",
              "</div>"
            ],
            "text/plain": [
              "   cid       name     type  notnull dflt_value  pk\n",
              "0    0      index  INTEGER        0       None   0\n",
              "1    1        MID     TEXT        0       None   0\n",
              "2    2      title     TEXT        0       None   0\n",
              "3    3       year     TEXT        0       None   0\n",
              "4    4     rating     REAL        0       None   0\n",
              "5    5  num_votes  INTEGER        0       None   0"
            ]
          },
          "metadata": {}
        },
        {
          "output_type": "stream",
          "name": "stdout",
          "text": [
            "----------------------------------------------------------------------------------------------------\n",
            "\n",
            "\n",
            "Schema of Genre\n"
          ]
        },
        {
          "output_type": "display_data",
          "data": {
            "text/html": [
              "<div>\n",
              "<style scoped>\n",
              "    .dataframe tbody tr th:only-of-type {\n",
              "        vertical-align: middle;\n",
              "    }\n",
              "\n",
              "    .dataframe tbody tr th {\n",
              "        vertical-align: top;\n",
              "    }\n",
              "\n",
              "    .dataframe thead th {\n",
              "        text-align: right;\n",
              "    }\n",
              "</style>\n",
              "<table border=\"1\" class=\"dataframe\">\n",
              "  <thead>\n",
              "    <tr style=\"text-align: right;\">\n",
              "      <th></th>\n",
              "      <th>cid</th>\n",
              "      <th>name</th>\n",
              "      <th>type</th>\n",
              "      <th>notnull</th>\n",
              "      <th>dflt_value</th>\n",
              "      <th>pk</th>\n",
              "    </tr>\n",
              "  </thead>\n",
              "  <tbody>\n",
              "    <tr>\n",
              "      <th>0</th>\n",
              "      <td>0</td>\n",
              "      <td>index</td>\n",
              "      <td>INTEGER</td>\n",
              "      <td>0</td>\n",
              "      <td>None</td>\n",
              "      <td>0</td>\n",
              "    </tr>\n",
              "    <tr>\n",
              "      <th>1</th>\n",
              "      <td>1</td>\n",
              "      <td>Name</td>\n",
              "      <td>TEXT</td>\n",
              "      <td>0</td>\n",
              "      <td>None</td>\n",
              "      <td>0</td>\n",
              "    </tr>\n",
              "    <tr>\n",
              "      <th>2</th>\n",
              "      <td>2</td>\n",
              "      <td>GID</td>\n",
              "      <td>INTEGER</td>\n",
              "      <td>0</td>\n",
              "      <td>None</td>\n",
              "      <td>0</td>\n",
              "    </tr>\n",
              "  </tbody>\n",
              "</table>\n",
              "</div>"
            ],
            "text/plain": [
              "   cid   name     type  notnull dflt_value  pk\n",
              "0    0  index  INTEGER        0       None   0\n",
              "1    1   Name     TEXT        0       None   0\n",
              "2    2    GID  INTEGER        0       None   0"
            ]
          },
          "metadata": {}
        },
        {
          "output_type": "stream",
          "name": "stdout",
          "text": [
            "----------------------------------------------------------------------------------------------------\n",
            "\n",
            "\n",
            "Schema of Language\n"
          ]
        },
        {
          "output_type": "display_data",
          "data": {
            "text/html": [
              "<div>\n",
              "<style scoped>\n",
              "    .dataframe tbody tr th:only-of-type {\n",
              "        vertical-align: middle;\n",
              "    }\n",
              "\n",
              "    .dataframe tbody tr th {\n",
              "        vertical-align: top;\n",
              "    }\n",
              "\n",
              "    .dataframe thead th {\n",
              "        text-align: right;\n",
              "    }\n",
              "</style>\n",
              "<table border=\"1\" class=\"dataframe\">\n",
              "  <thead>\n",
              "    <tr style=\"text-align: right;\">\n",
              "      <th></th>\n",
              "      <th>cid</th>\n",
              "      <th>name</th>\n",
              "      <th>type</th>\n",
              "      <th>notnull</th>\n",
              "      <th>dflt_value</th>\n",
              "      <th>pk</th>\n",
              "    </tr>\n",
              "  </thead>\n",
              "  <tbody>\n",
              "    <tr>\n",
              "      <th>0</th>\n",
              "      <td>0</td>\n",
              "      <td>index</td>\n",
              "      <td>INTEGER</td>\n",
              "      <td>0</td>\n",
              "      <td>None</td>\n",
              "      <td>0</td>\n",
              "    </tr>\n",
              "    <tr>\n",
              "      <th>1</th>\n",
              "      <td>1</td>\n",
              "      <td>Name</td>\n",
              "      <td>TEXT</td>\n",
              "      <td>0</td>\n",
              "      <td>None</td>\n",
              "      <td>0</td>\n",
              "    </tr>\n",
              "    <tr>\n",
              "      <th>2</th>\n",
              "      <td>2</td>\n",
              "      <td>LAID</td>\n",
              "      <td>INTEGER</td>\n",
              "      <td>0</td>\n",
              "      <td>None</td>\n",
              "      <td>0</td>\n",
              "    </tr>\n",
              "  </tbody>\n",
              "</table>\n",
              "</div>"
            ],
            "text/plain": [
              "   cid   name     type  notnull dflt_value  pk\n",
              "0    0  index  INTEGER        0       None   0\n",
              "1    1   Name     TEXT        0       None   0\n",
              "2    2   LAID  INTEGER        0       None   0"
            ]
          },
          "metadata": {}
        },
        {
          "output_type": "stream",
          "name": "stdout",
          "text": [
            "----------------------------------------------------------------------------------------------------\n",
            "\n",
            "\n",
            "Schema of Country\n"
          ]
        },
        {
          "output_type": "display_data",
          "data": {
            "text/html": [
              "<div>\n",
              "<style scoped>\n",
              "    .dataframe tbody tr th:only-of-type {\n",
              "        vertical-align: middle;\n",
              "    }\n",
              "\n",
              "    .dataframe tbody tr th {\n",
              "        vertical-align: top;\n",
              "    }\n",
              "\n",
              "    .dataframe thead th {\n",
              "        text-align: right;\n",
              "    }\n",
              "</style>\n",
              "<table border=\"1\" class=\"dataframe\">\n",
              "  <thead>\n",
              "    <tr style=\"text-align: right;\">\n",
              "      <th></th>\n",
              "      <th>cid</th>\n",
              "      <th>name</th>\n",
              "      <th>type</th>\n",
              "      <th>notnull</th>\n",
              "      <th>dflt_value</th>\n",
              "      <th>pk</th>\n",
              "    </tr>\n",
              "  </thead>\n",
              "  <tbody>\n",
              "    <tr>\n",
              "      <th>0</th>\n",
              "      <td>0</td>\n",
              "      <td>index</td>\n",
              "      <td>INTEGER</td>\n",
              "      <td>0</td>\n",
              "      <td>None</td>\n",
              "      <td>0</td>\n",
              "    </tr>\n",
              "    <tr>\n",
              "      <th>1</th>\n",
              "      <td>1</td>\n",
              "      <td>Name</td>\n",
              "      <td>TEXT</td>\n",
              "      <td>0</td>\n",
              "      <td>None</td>\n",
              "      <td>0</td>\n",
              "    </tr>\n",
              "    <tr>\n",
              "      <th>2</th>\n",
              "      <td>2</td>\n",
              "      <td>CID</td>\n",
              "      <td>INTEGER</td>\n",
              "      <td>0</td>\n",
              "      <td>None</td>\n",
              "      <td>0</td>\n",
              "    </tr>\n",
              "  </tbody>\n",
              "</table>\n",
              "</div>"
            ],
            "text/plain": [
              "   cid   name     type  notnull dflt_value  pk\n",
              "0    0  index  INTEGER        0       None   0\n",
              "1    1   Name     TEXT        0       None   0\n",
              "2    2    CID  INTEGER        0       None   0"
            ]
          },
          "metadata": {}
        },
        {
          "output_type": "stream",
          "name": "stdout",
          "text": [
            "----------------------------------------------------------------------------------------------------\n",
            "\n",
            "\n",
            "Schema of Location\n"
          ]
        },
        {
          "output_type": "display_data",
          "data": {
            "text/html": [
              "<div>\n",
              "<style scoped>\n",
              "    .dataframe tbody tr th:only-of-type {\n",
              "        vertical-align: middle;\n",
              "    }\n",
              "\n",
              "    .dataframe tbody tr th {\n",
              "        vertical-align: top;\n",
              "    }\n",
              "\n",
              "    .dataframe thead th {\n",
              "        text-align: right;\n",
              "    }\n",
              "</style>\n",
              "<table border=\"1\" class=\"dataframe\">\n",
              "  <thead>\n",
              "    <tr style=\"text-align: right;\">\n",
              "      <th></th>\n",
              "      <th>cid</th>\n",
              "      <th>name</th>\n",
              "      <th>type</th>\n",
              "      <th>notnull</th>\n",
              "      <th>dflt_value</th>\n",
              "      <th>pk</th>\n",
              "    </tr>\n",
              "  </thead>\n",
              "  <tbody>\n",
              "    <tr>\n",
              "      <th>0</th>\n",
              "      <td>0</td>\n",
              "      <td>index</td>\n",
              "      <td>INTEGER</td>\n",
              "      <td>0</td>\n",
              "      <td>None</td>\n",
              "      <td>0</td>\n",
              "    </tr>\n",
              "    <tr>\n",
              "      <th>1</th>\n",
              "      <td>1</td>\n",
              "      <td>Name</td>\n",
              "      <td>TEXT</td>\n",
              "      <td>0</td>\n",
              "      <td>None</td>\n",
              "      <td>0</td>\n",
              "    </tr>\n",
              "    <tr>\n",
              "      <th>2</th>\n",
              "      <td>2</td>\n",
              "      <td>LID</td>\n",
              "      <td>INTEGER</td>\n",
              "      <td>0</td>\n",
              "      <td>None</td>\n",
              "      <td>0</td>\n",
              "    </tr>\n",
              "  </tbody>\n",
              "</table>\n",
              "</div>"
            ],
            "text/plain": [
              "   cid   name     type  notnull dflt_value  pk\n",
              "0    0  index  INTEGER        0       None   0\n",
              "1    1   Name     TEXT        0       None   0\n",
              "2    2    LID  INTEGER        0       None   0"
            ]
          },
          "metadata": {}
        },
        {
          "output_type": "stream",
          "name": "stdout",
          "text": [
            "----------------------------------------------------------------------------------------------------\n",
            "\n",
            "\n",
            "Schema of M_Location\n"
          ]
        },
        {
          "output_type": "display_data",
          "data": {
            "text/html": [
              "<div>\n",
              "<style scoped>\n",
              "    .dataframe tbody tr th:only-of-type {\n",
              "        vertical-align: middle;\n",
              "    }\n",
              "\n",
              "    .dataframe tbody tr th {\n",
              "        vertical-align: top;\n",
              "    }\n",
              "\n",
              "    .dataframe thead th {\n",
              "        text-align: right;\n",
              "    }\n",
              "</style>\n",
              "<table border=\"1\" class=\"dataframe\">\n",
              "  <thead>\n",
              "    <tr style=\"text-align: right;\">\n",
              "      <th></th>\n",
              "      <th>cid</th>\n",
              "      <th>name</th>\n",
              "      <th>type</th>\n",
              "      <th>notnull</th>\n",
              "      <th>dflt_value</th>\n",
              "      <th>pk</th>\n",
              "    </tr>\n",
              "  </thead>\n",
              "  <tbody>\n",
              "    <tr>\n",
              "      <th>0</th>\n",
              "      <td>0</td>\n",
              "      <td>index</td>\n",
              "      <td>INTEGER</td>\n",
              "      <td>0</td>\n",
              "      <td>None</td>\n",
              "      <td>0</td>\n",
              "    </tr>\n",
              "    <tr>\n",
              "      <th>1</th>\n",
              "      <td>1</td>\n",
              "      <td>MID</td>\n",
              "      <td>TEXT</td>\n",
              "      <td>0</td>\n",
              "      <td>None</td>\n",
              "      <td>0</td>\n",
              "    </tr>\n",
              "    <tr>\n",
              "      <th>2</th>\n",
              "      <td>2</td>\n",
              "      <td>LID</td>\n",
              "      <td>REAL</td>\n",
              "      <td>0</td>\n",
              "      <td>None</td>\n",
              "      <td>0</td>\n",
              "    </tr>\n",
              "    <tr>\n",
              "      <th>3</th>\n",
              "      <td>3</td>\n",
              "      <td>ID</td>\n",
              "      <td>INTEGER</td>\n",
              "      <td>0</td>\n",
              "      <td>None</td>\n",
              "      <td>0</td>\n",
              "    </tr>\n",
              "  </tbody>\n",
              "</table>\n",
              "</div>"
            ],
            "text/plain": [
              "   cid   name     type  notnull dflt_value  pk\n",
              "0    0  index  INTEGER        0       None   0\n",
              "1    1    MID     TEXT        0       None   0\n",
              "2    2    LID     REAL        0       None   0\n",
              "3    3     ID  INTEGER        0       None   0"
            ]
          },
          "metadata": {}
        },
        {
          "output_type": "stream",
          "name": "stdout",
          "text": [
            "----------------------------------------------------------------------------------------------------\n",
            "\n",
            "\n",
            "Schema of M_Country\n"
          ]
        },
        {
          "output_type": "display_data",
          "data": {
            "text/html": [
              "<div>\n",
              "<style scoped>\n",
              "    .dataframe tbody tr th:only-of-type {\n",
              "        vertical-align: middle;\n",
              "    }\n",
              "\n",
              "    .dataframe tbody tr th {\n",
              "        vertical-align: top;\n",
              "    }\n",
              "\n",
              "    .dataframe thead th {\n",
              "        text-align: right;\n",
              "    }\n",
              "</style>\n",
              "<table border=\"1\" class=\"dataframe\">\n",
              "  <thead>\n",
              "    <tr style=\"text-align: right;\">\n",
              "      <th></th>\n",
              "      <th>cid</th>\n",
              "      <th>name</th>\n",
              "      <th>type</th>\n",
              "      <th>notnull</th>\n",
              "      <th>dflt_value</th>\n",
              "      <th>pk</th>\n",
              "    </tr>\n",
              "  </thead>\n",
              "  <tbody>\n",
              "    <tr>\n",
              "      <th>0</th>\n",
              "      <td>0</td>\n",
              "      <td>index</td>\n",
              "      <td>INTEGER</td>\n",
              "      <td>0</td>\n",
              "      <td>None</td>\n",
              "      <td>0</td>\n",
              "    </tr>\n",
              "    <tr>\n",
              "      <th>1</th>\n",
              "      <td>1</td>\n",
              "      <td>MID</td>\n",
              "      <td>TEXT</td>\n",
              "      <td>0</td>\n",
              "      <td>None</td>\n",
              "      <td>0</td>\n",
              "    </tr>\n",
              "    <tr>\n",
              "      <th>2</th>\n",
              "      <td>2</td>\n",
              "      <td>CID</td>\n",
              "      <td>REAL</td>\n",
              "      <td>0</td>\n",
              "      <td>None</td>\n",
              "      <td>0</td>\n",
              "    </tr>\n",
              "    <tr>\n",
              "      <th>3</th>\n",
              "      <td>3</td>\n",
              "      <td>ID</td>\n",
              "      <td>INTEGER</td>\n",
              "      <td>0</td>\n",
              "      <td>None</td>\n",
              "      <td>0</td>\n",
              "    </tr>\n",
              "  </tbody>\n",
              "</table>\n",
              "</div>"
            ],
            "text/plain": [
              "   cid   name     type  notnull dflt_value  pk\n",
              "0    0  index  INTEGER        0       None   0\n",
              "1    1    MID     TEXT        0       None   0\n",
              "2    2    CID     REAL        0       None   0\n",
              "3    3     ID  INTEGER        0       None   0"
            ]
          },
          "metadata": {}
        },
        {
          "output_type": "stream",
          "name": "stdout",
          "text": [
            "----------------------------------------------------------------------------------------------------\n",
            "\n",
            "\n",
            "Schema of M_Language\n"
          ]
        },
        {
          "output_type": "display_data",
          "data": {
            "text/html": [
              "<div>\n",
              "<style scoped>\n",
              "    .dataframe tbody tr th:only-of-type {\n",
              "        vertical-align: middle;\n",
              "    }\n",
              "\n",
              "    .dataframe tbody tr th {\n",
              "        vertical-align: top;\n",
              "    }\n",
              "\n",
              "    .dataframe thead th {\n",
              "        text-align: right;\n",
              "    }\n",
              "</style>\n",
              "<table border=\"1\" class=\"dataframe\">\n",
              "  <thead>\n",
              "    <tr style=\"text-align: right;\">\n",
              "      <th></th>\n",
              "      <th>cid</th>\n",
              "      <th>name</th>\n",
              "      <th>type</th>\n",
              "      <th>notnull</th>\n",
              "      <th>dflt_value</th>\n",
              "      <th>pk</th>\n",
              "    </tr>\n",
              "  </thead>\n",
              "  <tbody>\n",
              "    <tr>\n",
              "      <th>0</th>\n",
              "      <td>0</td>\n",
              "      <td>index</td>\n",
              "      <td>INTEGER</td>\n",
              "      <td>0</td>\n",
              "      <td>None</td>\n",
              "      <td>0</td>\n",
              "    </tr>\n",
              "    <tr>\n",
              "      <th>1</th>\n",
              "      <td>1</td>\n",
              "      <td>MID</td>\n",
              "      <td>TEXT</td>\n",
              "      <td>0</td>\n",
              "      <td>None</td>\n",
              "      <td>0</td>\n",
              "    </tr>\n",
              "    <tr>\n",
              "      <th>2</th>\n",
              "      <td>2</td>\n",
              "      <td>LAID</td>\n",
              "      <td>INTEGER</td>\n",
              "      <td>0</td>\n",
              "      <td>None</td>\n",
              "      <td>0</td>\n",
              "    </tr>\n",
              "    <tr>\n",
              "      <th>3</th>\n",
              "      <td>3</td>\n",
              "      <td>ID</td>\n",
              "      <td>INTEGER</td>\n",
              "      <td>0</td>\n",
              "      <td>None</td>\n",
              "      <td>0</td>\n",
              "    </tr>\n",
              "  </tbody>\n",
              "</table>\n",
              "</div>"
            ],
            "text/plain": [
              "   cid   name     type  notnull dflt_value  pk\n",
              "0    0  index  INTEGER        0       None   0\n",
              "1    1    MID     TEXT        0       None   0\n",
              "2    2   LAID  INTEGER        0       None   0\n",
              "3    3     ID  INTEGER        0       None   0"
            ]
          },
          "metadata": {}
        },
        {
          "output_type": "stream",
          "name": "stdout",
          "text": [
            "----------------------------------------------------------------------------------------------------\n",
            "\n",
            "\n",
            "Schema of M_Genre\n"
          ]
        },
        {
          "output_type": "display_data",
          "data": {
            "text/html": [
              "<div>\n",
              "<style scoped>\n",
              "    .dataframe tbody tr th:only-of-type {\n",
              "        vertical-align: middle;\n",
              "    }\n",
              "\n",
              "    .dataframe tbody tr th {\n",
              "        vertical-align: top;\n",
              "    }\n",
              "\n",
              "    .dataframe thead th {\n",
              "        text-align: right;\n",
              "    }\n",
              "</style>\n",
              "<table border=\"1\" class=\"dataframe\">\n",
              "  <thead>\n",
              "    <tr style=\"text-align: right;\">\n",
              "      <th></th>\n",
              "      <th>cid</th>\n",
              "      <th>name</th>\n",
              "      <th>type</th>\n",
              "      <th>notnull</th>\n",
              "      <th>dflt_value</th>\n",
              "      <th>pk</th>\n",
              "    </tr>\n",
              "  </thead>\n",
              "  <tbody>\n",
              "    <tr>\n",
              "      <th>0</th>\n",
              "      <td>0</td>\n",
              "      <td>index</td>\n",
              "      <td>INTEGER</td>\n",
              "      <td>0</td>\n",
              "      <td>None</td>\n",
              "      <td>0</td>\n",
              "    </tr>\n",
              "    <tr>\n",
              "      <th>1</th>\n",
              "      <td>1</td>\n",
              "      <td>MID</td>\n",
              "      <td>TEXT</td>\n",
              "      <td>0</td>\n",
              "      <td>None</td>\n",
              "      <td>0</td>\n",
              "    </tr>\n",
              "    <tr>\n",
              "      <th>2</th>\n",
              "      <td>2</td>\n",
              "      <td>GID</td>\n",
              "      <td>INTEGER</td>\n",
              "      <td>0</td>\n",
              "      <td>None</td>\n",
              "      <td>0</td>\n",
              "    </tr>\n",
              "    <tr>\n",
              "      <th>3</th>\n",
              "      <td>3</td>\n",
              "      <td>ID</td>\n",
              "      <td>INTEGER</td>\n",
              "      <td>0</td>\n",
              "      <td>None</td>\n",
              "      <td>0</td>\n",
              "    </tr>\n",
              "  </tbody>\n",
              "</table>\n",
              "</div>"
            ],
            "text/plain": [
              "   cid   name     type  notnull dflt_value  pk\n",
              "0    0  index  INTEGER        0       None   0\n",
              "1    1    MID     TEXT        0       None   0\n",
              "2    2    GID  INTEGER        0       None   0\n",
              "3    3     ID  INTEGER        0       None   0"
            ]
          },
          "metadata": {}
        },
        {
          "output_type": "stream",
          "name": "stdout",
          "text": [
            "----------------------------------------------------------------------------------------------------\n",
            "\n",
            "\n",
            "Schema of Person\n"
          ]
        },
        {
          "output_type": "display_data",
          "data": {
            "text/html": [
              "<div>\n",
              "<style scoped>\n",
              "    .dataframe tbody tr th:only-of-type {\n",
              "        vertical-align: middle;\n",
              "    }\n",
              "\n",
              "    .dataframe tbody tr th {\n",
              "        vertical-align: top;\n",
              "    }\n",
              "\n",
              "    .dataframe thead th {\n",
              "        text-align: right;\n",
              "    }\n",
              "</style>\n",
              "<table border=\"1\" class=\"dataframe\">\n",
              "  <thead>\n",
              "    <tr style=\"text-align: right;\">\n",
              "      <th></th>\n",
              "      <th>cid</th>\n",
              "      <th>name</th>\n",
              "      <th>type</th>\n",
              "      <th>notnull</th>\n",
              "      <th>dflt_value</th>\n",
              "      <th>pk</th>\n",
              "    </tr>\n",
              "  </thead>\n",
              "  <tbody>\n",
              "    <tr>\n",
              "      <th>0</th>\n",
              "      <td>0</td>\n",
              "      <td>index</td>\n",
              "      <td>INTEGER</td>\n",
              "      <td>0</td>\n",
              "      <td>None</td>\n",
              "      <td>0</td>\n",
              "    </tr>\n",
              "    <tr>\n",
              "      <th>1</th>\n",
              "      <td>1</td>\n",
              "      <td>PID</td>\n",
              "      <td>TEXT</td>\n",
              "      <td>0</td>\n",
              "      <td>None</td>\n",
              "      <td>0</td>\n",
              "    </tr>\n",
              "    <tr>\n",
              "      <th>2</th>\n",
              "      <td>2</td>\n",
              "      <td>Name</td>\n",
              "      <td>TEXT</td>\n",
              "      <td>0</td>\n",
              "      <td>None</td>\n",
              "      <td>0</td>\n",
              "    </tr>\n",
              "    <tr>\n",
              "      <th>3</th>\n",
              "      <td>3</td>\n",
              "      <td>Gender</td>\n",
              "      <td>TEXT</td>\n",
              "      <td>0</td>\n",
              "      <td>None</td>\n",
              "      <td>0</td>\n",
              "    </tr>\n",
              "  </tbody>\n",
              "</table>\n",
              "</div>"
            ],
            "text/plain": [
              "   cid    name     type  notnull dflt_value  pk\n",
              "0    0   index  INTEGER        0       None   0\n",
              "1    1     PID     TEXT        0       None   0\n",
              "2    2    Name     TEXT        0       None   0\n",
              "3    3  Gender     TEXT        0       None   0"
            ]
          },
          "metadata": {}
        },
        {
          "output_type": "stream",
          "name": "stdout",
          "text": [
            "----------------------------------------------------------------------------------------------------\n",
            "\n",
            "\n",
            "Schema of M_Producer\n"
          ]
        },
        {
          "output_type": "display_data",
          "data": {
            "text/html": [
              "<div>\n",
              "<style scoped>\n",
              "    .dataframe tbody tr th:only-of-type {\n",
              "        vertical-align: middle;\n",
              "    }\n",
              "\n",
              "    .dataframe tbody tr th {\n",
              "        vertical-align: top;\n",
              "    }\n",
              "\n",
              "    .dataframe thead th {\n",
              "        text-align: right;\n",
              "    }\n",
              "</style>\n",
              "<table border=\"1\" class=\"dataframe\">\n",
              "  <thead>\n",
              "    <tr style=\"text-align: right;\">\n",
              "      <th></th>\n",
              "      <th>cid</th>\n",
              "      <th>name</th>\n",
              "      <th>type</th>\n",
              "      <th>notnull</th>\n",
              "      <th>dflt_value</th>\n",
              "      <th>pk</th>\n",
              "    </tr>\n",
              "  </thead>\n",
              "  <tbody>\n",
              "    <tr>\n",
              "      <th>0</th>\n",
              "      <td>0</td>\n",
              "      <td>index</td>\n",
              "      <td>INTEGER</td>\n",
              "      <td>0</td>\n",
              "      <td>None</td>\n",
              "      <td>0</td>\n",
              "    </tr>\n",
              "    <tr>\n",
              "      <th>1</th>\n",
              "      <td>1</td>\n",
              "      <td>MID</td>\n",
              "      <td>TEXT</td>\n",
              "      <td>0</td>\n",
              "      <td>None</td>\n",
              "      <td>0</td>\n",
              "    </tr>\n",
              "    <tr>\n",
              "      <th>2</th>\n",
              "      <td>2</td>\n",
              "      <td>PID</td>\n",
              "      <td>TEXT</td>\n",
              "      <td>0</td>\n",
              "      <td>None</td>\n",
              "      <td>0</td>\n",
              "    </tr>\n",
              "    <tr>\n",
              "      <th>3</th>\n",
              "      <td>3</td>\n",
              "      <td>ID</td>\n",
              "      <td>INTEGER</td>\n",
              "      <td>0</td>\n",
              "      <td>None</td>\n",
              "      <td>0</td>\n",
              "    </tr>\n",
              "  </tbody>\n",
              "</table>\n",
              "</div>"
            ],
            "text/plain": [
              "   cid   name     type  notnull dflt_value  pk\n",
              "0    0  index  INTEGER        0       None   0\n",
              "1    1    MID     TEXT        0       None   0\n",
              "2    2    PID     TEXT        0       None   0\n",
              "3    3     ID  INTEGER        0       None   0"
            ]
          },
          "metadata": {}
        },
        {
          "output_type": "stream",
          "name": "stdout",
          "text": [
            "----------------------------------------------------------------------------------------------------\n",
            "\n",
            "\n",
            "Schema of M_Director\n"
          ]
        },
        {
          "output_type": "display_data",
          "data": {
            "text/html": [
              "<div>\n",
              "<style scoped>\n",
              "    .dataframe tbody tr th:only-of-type {\n",
              "        vertical-align: middle;\n",
              "    }\n",
              "\n",
              "    .dataframe tbody tr th {\n",
              "        vertical-align: top;\n",
              "    }\n",
              "\n",
              "    .dataframe thead th {\n",
              "        text-align: right;\n",
              "    }\n",
              "</style>\n",
              "<table border=\"1\" class=\"dataframe\">\n",
              "  <thead>\n",
              "    <tr style=\"text-align: right;\">\n",
              "      <th></th>\n",
              "      <th>cid</th>\n",
              "      <th>name</th>\n",
              "      <th>type</th>\n",
              "      <th>notnull</th>\n",
              "      <th>dflt_value</th>\n",
              "      <th>pk</th>\n",
              "    </tr>\n",
              "  </thead>\n",
              "  <tbody>\n",
              "    <tr>\n",
              "      <th>0</th>\n",
              "      <td>0</td>\n",
              "      <td>index</td>\n",
              "      <td>INTEGER</td>\n",
              "      <td>0</td>\n",
              "      <td>None</td>\n",
              "      <td>0</td>\n",
              "    </tr>\n",
              "    <tr>\n",
              "      <th>1</th>\n",
              "      <td>1</td>\n",
              "      <td>MID</td>\n",
              "      <td>TEXT</td>\n",
              "      <td>0</td>\n",
              "      <td>None</td>\n",
              "      <td>0</td>\n",
              "    </tr>\n",
              "    <tr>\n",
              "      <th>2</th>\n",
              "      <td>2</td>\n",
              "      <td>PID</td>\n",
              "      <td>TEXT</td>\n",
              "      <td>0</td>\n",
              "      <td>None</td>\n",
              "      <td>0</td>\n",
              "    </tr>\n",
              "    <tr>\n",
              "      <th>3</th>\n",
              "      <td>3</td>\n",
              "      <td>ID</td>\n",
              "      <td>INTEGER</td>\n",
              "      <td>0</td>\n",
              "      <td>None</td>\n",
              "      <td>0</td>\n",
              "    </tr>\n",
              "  </tbody>\n",
              "</table>\n",
              "</div>"
            ],
            "text/plain": [
              "   cid   name     type  notnull dflt_value  pk\n",
              "0    0  index  INTEGER        0       None   0\n",
              "1    1    MID     TEXT        0       None   0\n",
              "2    2    PID     TEXT        0       None   0\n",
              "3    3     ID  INTEGER        0       None   0"
            ]
          },
          "metadata": {}
        },
        {
          "output_type": "stream",
          "name": "stdout",
          "text": [
            "----------------------------------------------------------------------------------------------------\n",
            "\n",
            "\n",
            "Schema of M_Cast\n"
          ]
        },
        {
          "output_type": "display_data",
          "data": {
            "text/html": [
              "<div>\n",
              "<style scoped>\n",
              "    .dataframe tbody tr th:only-of-type {\n",
              "        vertical-align: middle;\n",
              "    }\n",
              "\n",
              "    .dataframe tbody tr th {\n",
              "        vertical-align: top;\n",
              "    }\n",
              "\n",
              "    .dataframe thead th {\n",
              "        text-align: right;\n",
              "    }\n",
              "</style>\n",
              "<table border=\"1\" class=\"dataframe\">\n",
              "  <thead>\n",
              "    <tr style=\"text-align: right;\">\n",
              "      <th></th>\n",
              "      <th>cid</th>\n",
              "      <th>name</th>\n",
              "      <th>type</th>\n",
              "      <th>notnull</th>\n",
              "      <th>dflt_value</th>\n",
              "      <th>pk</th>\n",
              "    </tr>\n",
              "  </thead>\n",
              "  <tbody>\n",
              "    <tr>\n",
              "      <th>0</th>\n",
              "      <td>0</td>\n",
              "      <td>index</td>\n",
              "      <td>INTEGER</td>\n",
              "      <td>0</td>\n",
              "      <td>None</td>\n",
              "      <td>0</td>\n",
              "    </tr>\n",
              "    <tr>\n",
              "      <th>1</th>\n",
              "      <td>1</td>\n",
              "      <td>MID</td>\n",
              "      <td>TEXT</td>\n",
              "      <td>0</td>\n",
              "      <td>None</td>\n",
              "      <td>0</td>\n",
              "    </tr>\n",
              "    <tr>\n",
              "      <th>2</th>\n",
              "      <td>2</td>\n",
              "      <td>PID</td>\n",
              "      <td>TEXT</td>\n",
              "      <td>0</td>\n",
              "      <td>None</td>\n",
              "      <td>0</td>\n",
              "    </tr>\n",
              "    <tr>\n",
              "      <th>3</th>\n",
              "      <td>3</td>\n",
              "      <td>ID</td>\n",
              "      <td>INTEGER</td>\n",
              "      <td>0</td>\n",
              "      <td>None</td>\n",
              "      <td>0</td>\n",
              "    </tr>\n",
              "  </tbody>\n",
              "</table>\n",
              "</div>"
            ],
            "text/plain": [
              "   cid   name     type  notnull dflt_value  pk\n",
              "0    0  index  INTEGER        0       None   0\n",
              "1    1    MID     TEXT        0       None   0\n",
              "2    2    PID     TEXT        0       None   0\n",
              "3    3     ID  INTEGER        0       None   0"
            ]
          },
          "metadata": {}
        },
        {
          "output_type": "stream",
          "name": "stdout",
          "text": [
            "----------------------------------------------------------------------------------------------------\n",
            "\n",
            "\n"
          ]
        }
      ]
    },
    {
      "cell_type": "markdown",
      "metadata": {
        "id": "O4Cj0Wdz23tA"
      },
      "source": [
        "## Useful tips:\n",
        "\n",
        "1. the year column in 'Movie' table, will have few chracters other than numbers which you need to be preprocessed, you need to get a substring of last 4 characters, its better if you convert it as int type, ex: CAST(SUBSTR(TRIM(m.year),-4) AS INTEGER)\n",
        "\n",
        "2. For almost all the TEXT columns we have show, please try to remove trailing spaces, you need to use TRIM() function\n",
        "\n",
        "3. When you are doing count(coulmn) it won't consider the \"NULL\" values, you might need to explore other alternatives like Count(*)"
      ]
    },
    {
      "cell_type": "markdown",
      "metadata": {
        "id": "jL9AmM3oE_IZ"
      },
      "source": [
        "## Q1 --- List all the directors who directed a 'Comedy' movie in a leap year. (You need to check that the genre is 'Comedy’ and year is a leap year) Your query should return director name, the movie name, and the year."
      ]
    },
    {
      "cell_type": "markdown",
      "metadata": {
        "id": "1jglmxDuE_Ib"
      },
      "source": [
        "<h4>To determine whether a year is a leap year, follow these steps:</h4>\n",
        "\n",
        "<ul>\n",
        "    <li><b>STEP-1:</b> If the year is evenly divisible by 4, go to step 2. Otherwise, go to step 5.</li>\n",
        "    <li><b>STEP-2:</b> If the year is evenly divisible by 100, go to step 3. Otherwise, go to step 4.</li>\n",
        "    <li><b>STEP-3:</b> If the year is evenly divisible by 400, go to step 4. Otherwise, go to step 5.</li>\n",
        "    <li><b>STEP-4:</b> The year is a leap year (it has 366 days).</li>\n",
        "    <li><b>STEP-5:</b> The year is not a leap year (it has 365 days).</li>\n",
        "</ul>\n",
        "\n",
        "Year 1900 is divisible by 4 and 100 but it is not divisible by 400, so it is not a leap year."
      ]
    },
    {
      "cell_type": "code",
      "metadata": {
        "id": "yBo_pMrH23tD",
        "colab": {
          "base_uri": "https://localhost:8080/",
          "height": 0
        },
        "outputId": "b44d7e80-d3ba-41a1-9404-06505373f9e4"
      },
      "source": [
        "%%time\n",
        "def grader_1(q1):\n",
        "    q1_results  = pd.read_sql_query(q1,conn)\n",
        "    print(q1_results.head(10))\n",
        "    assert (q1_results.shape == (232,3))\n",
        "\n",
        "query1 = \"\"\" select p.name as Director,m.title as Movie,CAST(SUBSTR(TRIM(m.year),-4) AS INTEGER) as Year from Person p \n",
        "             join M_DIRECTOR MD on p.PID = MD.PID \n",
        "             join Movie m on MD.MID = m.MID \n",
        "             join M_Genre MG ON m.MID = MG.MID \n",
        "             join Genre g on MG.GID = g.GID \n",
        "             where (\n",
        "             CAST(SUBSTR(TRIM(m.year),-4) AS INTEGER)%4=0 AND\n",
        "             CAST(SUBSTR(TRIM(m.year),-4) AS INTEGER)%100 != 0 OR \n",
        "             CAST(SUBSTR(TRIM(m.year),-4) AS INTEGER)%400=0) and g.Name like '%Comedy%'  \"\"\"\n",
        "grader_1(query1)"
      ],
      "execution_count": 35,
      "outputs": [
        {
          "output_type": "stream",
          "name": "stdout",
          "text": [
            "            Director                              Movie  Year\n",
            "0       Milap Zaveri                         Mastizaade  2016\n",
            "1       Danny Leiner  Harold & Kumar Go to White Castle  2004\n",
            "2     Anurag Kashyap                 Gangs of Wasseypur  2012\n",
            "3       Frank Coraci        Around the World in 80 Days  2004\n",
            "4      Griffin Dunne             The Accidental Husband  2008\n",
            "5        Anurag Basu                             Barfi!  2012\n",
            "6    Gurinder Chadha                  Bride & Prejudice  2004\n",
            "7         Mike Judge    Beavis and Butt-Head Do America  1996\n",
            "8   Tarun Mansukhani                            Dostana  2008\n",
            "9       Shakun Batra                      Kapoor & Sons  2016\n",
            "CPU times: user 73.5 ms, sys: 3.43 ms, total: 76.9 ms\n",
            "Wall time: 84.5 ms\n"
          ]
        }
      ]
    },
    {
      "cell_type": "markdown",
      "metadata": {
        "id": "LHFSrIJlE_Ih"
      },
      "source": [
        "## Q2 --- List the names of all the actors who played in the movie 'Anand' (1971)"
      ]
    },
    {
      "cell_type": "code",
      "metadata": {
        "colab": {
          "base_uri": "https://localhost:8080/",
          "height": 0
        },
        "id": "mEn7oW8-llBm",
        "outputId": "f544d760-43ba-494e-b602-5fad670c8ea9"
      },
      "source": [
        "q2 = \"\"\" Select P.Name from Person P where PID in\n",
        "         (Select TRIM(PID) from M_Cast where MID in\n",
        "         (Select TRIM(MID) from Movie m \n",
        "         where TRIM(m.title)='Anand' and CAST(SUBSTR(TRIM(m.year),-4) AS INTEGER)=1971 ))  \"\"\"\n",
        "print(pd.read_sql_query(q2,conn))"
      ],
      "execution_count": 36,
      "outputs": [
        {
          "output_type": "stream",
          "name": "stdout",
          "text": [
            "                 Name\n",
            "0    Amitabh Bachchan\n",
            "1       Rajesh Khanna\n",
            "2       Sumita Sanyal\n",
            "3          Ramesh Deo\n",
            "4           Seema Deo\n",
            "5      Asit Kumar Sen\n",
            "6          Dev Kishan\n",
            "7        Atam Prakash\n",
            "8       Lalita Kumari\n",
            "9              Savita\n",
            "10     Brahm Bhardwaj\n",
            "11       Gurnam Singh\n",
            "12       Lalita Pawar\n",
            "13        Durga Khote\n",
            "14         Dara Singh\n",
            "15      Johnny Walker\n",
            "16          Moolchand\n"
          ]
        }
      ]
    },
    {
      "cell_type": "code",
      "metadata": {
        "id": "5BSQOVlk23tS",
        "colab": {
          "base_uri": "https://localhost:8080/",
          "height": 0
        },
        "outputId": "9d6e30ba-f732-4a29-f0f5-7b039c327646"
      },
      "source": [
        "%%time\n",
        "def grader_2(q2):\n",
        "    q2_results  = pd.read_sql_query(q2,conn)\n",
        "    print(q2_results.head(10))\n",
        "    assert (q2_results.shape == (17,1))\n",
        "\n",
        "\n",
        "query2 = \"\"\" Select P.Name from Person P where PID in\n",
        "         (Select TRIM(PID) from M_Cast where MID in\n",
        "         (Select TRIM(MID) from Movie m \n",
        "         where TRIM(m.title)='Anand' and CAST(SUBSTR(TRIM(m.year),-4) AS INTEGER)=1971 ))  \"\"\"\n",
        "grader_2(query2)"
      ],
      "execution_count": 37,
      "outputs": [
        {
          "output_type": "stream",
          "name": "stdout",
          "text": [
            "                Name\n",
            "0   Amitabh Bachchan\n",
            "1      Rajesh Khanna\n",
            "2      Sumita Sanyal\n",
            "3         Ramesh Deo\n",
            "4          Seema Deo\n",
            "5     Asit Kumar Sen\n",
            "6         Dev Kishan\n",
            "7       Atam Prakash\n",
            "8      Lalita Kumari\n",
            "9             Savita\n",
            "CPU times: user 26.7 ms, sys: 2.85 ms, total: 29.6 ms\n",
            "Wall time: 29.2 ms\n"
          ]
        }
      ]
    },
    {
      "cell_type": "markdown",
      "metadata": {
        "id": "bJ-mAUMmE_Il"
      },
      "source": [
        "## Q3 --- List all the actors who acted in a film before 1970 and in a film after 1990. (That is: < 1970 and > 1990.)"
      ]
    },
    {
      "cell_type": "code",
      "metadata": {
        "id": "HARXLaJ623tY",
        "colab": {
          "base_uri": "https://localhost:8080/",
          "height": 0
        },
        "outputId": "c748d3d1-ec8e-4302-a097-3cbb7b270557"
      },
      "source": [
        "%%time\n",
        "\n",
        "def grader_3a(query_less_1970, query_more_1990):\n",
        "    q3_a = pd.read_sql_query(query_less_1970,conn)\n",
        "    print(q3_a.shape)\n",
        "    q3_b = pd.read_sql_query(query_more_1990,conn)\n",
        "    print(q3_b.shape)\n",
        "    return (q3_a.shape == (4942,1)) and (q3_b.shape == (62570,1))\n",
        "\n",
        "query_less_1970 =\"\"\" \n",
        "Select p.PID from Person p \n",
        "inner join \n",
        "(\n",
        "    select trim(mc.PID) PD, mc.MID from M_cast mc \n",
        "where mc.MID \n",
        "in \n",
        "(\n",
        "    select mv.MID from Movie mv where CAST(SUBSTR(mv.year,-4) AS Integer)<1970\n",
        ")\n",
        ") r1 \n",
        "on r1.PD=p.PID \n",
        "\"\"\"\n",
        "query_more_1990 =\"\"\" \n",
        "Select p.PID from Person p \n",
        "inner join \n",
        "(\n",
        "    select trim(mc.PID) PD, mc.MID from M_cast mc \n",
        "where mc.MID \n",
        "in \n",
        "(\n",
        "    select mv.MID from Movie mv where CAST(SUBSTR(mv.year,-4) AS Integer)>1990\n",
        ")\n",
        ") r1 \n",
        "on r1.PD=p.PID \"\"\"\n",
        "print(grader_3a(query_less_1970, query_more_1990))\n",
        "\n",
        "# using the above two queries, you can find the answer to the given question "
      ],
      "execution_count": 38,
      "outputs": [
        {
          "output_type": "stream",
          "name": "stdout",
          "text": [
            "(4942, 1)\n",
            "(62570, 1)\n",
            "True\n",
            "CPU times: user 257 ms, sys: 13.6 ms, total: 271 ms\n",
            "Wall time: 273 ms\n"
          ]
        }
      ]
    },
    {
      "cell_type": "code",
      "metadata": {
        "id": "sbzv0UZZ23td",
        "colab": {
          "base_uri": "https://localhost:8080/",
          "height": 0
        },
        "outputId": "a28a3d87-d06d-4fc9-85c9-1ba21af08b18"
      },
      "source": [
        "%%time\n",
        "def grader_3(q3):\n",
        "    q3_results  = pd.read_sql_query(q3,conn)\n",
        "    print(q3_results.head(10))\n",
        "    assert (q3_results.shape == (300,1))\n",
        "\n",
        "query3 = \"\"\" select p.name from person p where p.pid in \n",
        "            \n",
        "            (Select p.PID from Person p \n",
        "            inner join \n",
        "            (\n",
        "            select trim(mc.PID) PD, mc.MID from M_cast mc \n",
        "            where mc.MID \n",
        "            in \n",
        "            (\n",
        "            select mv.MID from Movie mv where CAST(SUBSTR(mv.year,-4) AS Integer)<1970\n",
        "            )\n",
        "            ) r1 \n",
        "            on r1.PD=p.PID\n",
        "\n",
        "            intersect\n",
        "          \n",
        "            Select p.PID from Person p \n",
        "            inner join \n",
        "            (\n",
        "            select trim(mc.PID) PD, mc.MID from M_cast mc \n",
        "            where mc.MID \n",
        "            in \n",
        "            (\n",
        "            select mv.MID from Movie mv where CAST(SUBSTR(mv.year,-4) AS Integer)>1990\n",
        "            )\n",
        "            ) r1 \n",
        "            on r1.PD=p.PID)  \"\"\"\n",
        "grader_3(query3)"
      ],
      "execution_count": 39,
      "outputs": [
        {
          "output_type": "stream",
          "name": "stdout",
          "text": [
            "                Name\n",
            "0       Rishi Kapoor\n",
            "1   Amitabh Bachchan\n",
            "2             Asrani\n",
            "3       Zohra Sehgal\n",
            "4    Parikshat Sahni\n",
            "5      Rakesh Sharma\n",
            "6        Sanjay Dutt\n",
            "7          Ric Young\n",
            "8              Yusuf\n",
            "9     Suhasini Mulay\n",
            "CPU times: user 298 ms, sys: 4.1 ms, total: 302 ms\n",
            "Wall time: 300 ms\n"
          ]
        }
      ]
    },
    {
      "cell_type": "markdown",
      "metadata": {
        "id": "wd3tqFxaE_Ir"
      },
      "source": [
        "## Q4 --- List all directors who directed 10 movies or more, in descending order of the number of movies they directed. Return the directors' names and the number of movies each of them directed."
      ]
    },
    {
      "cell_type": "code",
      "metadata": {
        "id": "aGgqAYk723th",
        "colab": {
          "base_uri": "https://localhost:8080/",
          "height": 0
        },
        "outputId": "ee87f154-3ddf-41c1-ad51-8872ffb656f1"
      },
      "source": [
        "%%time\n",
        "\n",
        "def grader_4a(query_4a):\n",
        "    query_4a = pd.read_sql_query(query_4a,conn)\n",
        "    print(query_4a.head(10)) \n",
        "    return (query_4a.shape == (1462,2))\n",
        "\n",
        "query_4a =\"\"\" Select PID, count(MID) from M_Director where MID in\n",
        "              (Select TRIM(MID) from Movie M) Group by PID\"\"\"\n",
        "print(grader_4a(query_4a))\n",
        "\n",
        "# using the above query, you can write the answer to the given question"
      ],
      "execution_count": 40,
      "outputs": [
        {
          "output_type": "stream",
          "name": "stdout",
          "text": [
            "         PID  count(MID)\n",
            "0  nm0000180           1\n",
            "1  nm0000187           1\n",
            "2  nm0000229           1\n",
            "3  nm0000269           1\n",
            "4  nm0000386           1\n",
            "5  nm0000487           2\n",
            "6  nm0000965           1\n",
            "7  nm0001060           1\n",
            "8  nm0001162           1\n",
            "9  nm0001241           1\n",
            "True\n",
            "CPU times: user 22.6 ms, sys: 0 ns, total: 22.6 ms\n",
            "Wall time: 22.9 ms\n"
          ]
        }
      ]
    },
    {
      "cell_type": "code",
      "metadata": {
        "id": "xROoSzcF23tn",
        "colab": {
          "base_uri": "https://localhost:8080/",
          "height": 0
        },
        "outputId": "07970642-f515-438b-ca8d-1f208e1a9c39"
      },
      "source": [
        "%%time\n",
        "def grader_4(q4):\n",
        "    q4_results  = pd.read_sql_query(q4,conn)\n",
        "    print(q4_results.head(10))\n",
        "    assert (q4_results.shape == (58,2))\n",
        "\n",
        "query4 = \"\"\" SELECT p.Name AS Name, COUNT(*) as Movies_Directed from Person p \n",
        "        JOIN M_Director d on p.PID = d.PID\n",
        "        JOIN Movie m on d.MID = m.MID\n",
        "        GROUP BY Name HAVING Movies_Directed >= 10 ORDER BY Movies_Directed DESC  \"\"\"\n",
        "grader_4(query4)"
      ],
      "execution_count": 41,
      "outputs": [
        {
          "output_type": "stream",
          "name": "stdout",
          "text": [
            "                    Name  Movies_Directed\n",
            "0           David Dhawan               39\n",
            "1           Mahesh Bhatt               36\n",
            "2        Ram Gopal Varma               30\n",
            "3           Priyadarshan               30\n",
            "4           Vikram Bhatt               29\n",
            "5   Hrishikesh Mukherjee               27\n",
            "6            Yash Chopra               21\n",
            "7        Basu Chatterjee               19\n",
            "8         Shakti Samanta               19\n",
            "9           Subhash Ghai               18\n",
            "CPU times: user 48.1 ms, sys: 0 ns, total: 48.1 ms\n",
            "Wall time: 51 ms\n"
          ]
        }
      ]
    },
    {
      "cell_type": "markdown",
      "metadata": {
        "id": "OnulNpiOE_Iw"
      },
      "source": [
        "## Q5.a --- For each year, count the number of movies in that year that had only female actors."
      ]
    },
    {
      "cell_type": "code",
      "metadata": {
        "colab": {
          "base_uri": "https://localhost:8080/",
          "height": 0
        },
        "id": "iFyKQHimMu5M",
        "outputId": "b48e82cb-77ba-4dbe-dbc4-c1f4c1e318f8"
      },
      "source": [
        "q5 = \"\"\" select CAST(SUBSTR(TRIM(m.year),-4) AS INTEGER) as YEAR, COUNT(*) AS Female_Cast_Only_Movies from Movie m where mid not in\n",
        "        (select mc.mid from person p\n",
        "         inner join m_cast mc on p.pid = trim(mc.pid) where p.gender = 'Male' group by mc.mid having count(*)>=1) group by YEAR\"\"\"\n",
        "print(pd.read_sql_query(q5,conn))\n",
        "print(pd.read_sql_query(q5,conn).shape)"
      ],
      "execution_count": 42,
      "outputs": [
        {
          "output_type": "stream",
          "name": "stdout",
          "text": [
            "   YEAR  Female_Cast_Only_Movies\n",
            "0  1939                        1\n",
            "1  1999                        1\n",
            "2  2000                        1\n",
            "3  2018                        1\n",
            "(4, 2)\n"
          ]
        }
      ]
    },
    {
      "cell_type": "code",
      "metadata": {
        "id": "ES-gGiNG23tr",
        "colab": {
          "base_uri": "https://localhost:8080/",
          "height": 0
        },
        "outputId": "1fb1bccd-5559-4704-cb03-970ca711ca3f"
      },
      "source": [
        "%%time\n",
        "\n",
        "# note that you don't need TRIM for person table\n",
        "\n",
        "def grader_5aa(query_5aa):\n",
        "    query_5aa = pd.read_sql_query(query_5aa,conn)\n",
        "    print(query_5aa.head(10)) \n",
        "    return (query_5aa.shape == (8846,3))\n",
        "  \n",
        "#*** Write your query that will get movie id, and number of people for each geneder ***\n",
        "\n",
        "query_5aa =\"\"\" select mc.mid, p.gender, count(*) from person p\n",
        "         inner join m_cast mc on p.pid = trim(mc.pid) group by mc.mid,p.gender \"\"\"\n",
        "\n",
        "print(grader_5aa(query_5aa))\n",
        "\n",
        "def grader_5ab(query_5ab):\n",
        "    query_5ab = pd.read_sql_query(query_5ab,conn)\n",
        "    print(query_5ab.head(10)) \n",
        "    return (query_5ab.shape == (3469, 3))\n",
        "\n",
        "#*** Write your query that will have at least one male actor try to use query that you have written above ***\n",
        "\n",
        "query_5ab =\"\"\" select mc.mid, p.gender, count(*) from person p\n",
        "         inner join m_cast mc on p.pid = trim(mc.pid) where p.gender = 'Male' group by mc.mid having count(*)>=1 \"\"\"\n",
        "\n",
        "print(grader_5ab(query_5ab))\n",
        "\n",
        "\n",
        "# using the above queries, you can write the answer to the given question"
      ],
      "execution_count": 43,
      "outputs": [
        {
          "output_type": "stream",
          "name": "stdout",
          "text": [
            "         MID  Gender  count(*)\n",
            "0  tt0021594    None         1\n",
            "1  tt0021594  Female         3\n",
            "2  tt0021594    Male         5\n",
            "3  tt0026274    None         2\n",
            "4  tt0026274  Female        11\n",
            "5  tt0026274    Male         9\n",
            "6  tt0027256    None         2\n",
            "7  tt0027256  Female         5\n",
            "8  tt0027256    Male         8\n",
            "9  tt0028217  Female         3\n",
            "True\n",
            "         MID Gender  count(*)\n",
            "0  tt0021594   Male         5\n",
            "1  tt0026274   Male         9\n",
            "2  tt0027256   Male         8\n",
            "3  tt0028217   Male         7\n",
            "4  tt0031580   Male        27\n",
            "5  tt0033616   Male        46\n",
            "6  tt0036077   Male        11\n",
            "7  tt0038491   Male         7\n",
            "8  tt0039654   Male         6\n",
            "9  tt0040067   Male        10\n",
            "True\n",
            "CPU times: user 359 ms, sys: 3.63 ms, total: 363 ms\n",
            "Wall time: 364 ms\n"
          ]
        }
      ]
    },
    {
      "cell_type": "code",
      "metadata": {
        "id": "zQOIawPME_Ix",
        "colab": {
          "base_uri": "https://localhost:8080/",
          "height": 0
        },
        "outputId": "8e84ce5b-0b56-49d7-efaf-164a11bd00f3"
      },
      "source": [
        "%%time\n",
        "def grader_5a(q5a):\n",
        "    q5a_results  = pd.read_sql_query(q5a,conn)\n",
        "    print(q5a_results.head(10))\n",
        "    assert (q5a_results.shape == (4,2))\n",
        "\n",
        "query5a = \"\"\" select CAST(SUBSTR(TRIM(m.year),-4) AS INTEGER) as YEAR, COUNT(*) AS Female_Cast_Only_Movies from Movie m where mid not in\n",
        "        (select mc.mid from person p\n",
        "         inner join m_cast mc on p.pid = trim(mc.pid) where p.gender = 'Male' group by mc.mid having count(*)>=1) group by YEAR\"\"\"\n",
        "grader_5a(query5a)"
      ],
      "execution_count": 44,
      "outputs": [
        {
          "output_type": "stream",
          "name": "stdout",
          "text": [
            "   YEAR  Female_Cast_Only_Movies\n",
            "0  1939                        1\n",
            "1  1999                        1\n",
            "2  2000                        1\n",
            "3  2018                        1\n",
            "CPU times: user 159 ms, sys: 3.38 ms, total: 163 ms\n",
            "Wall time: 160 ms\n"
          ]
        }
      ]
    },
    {
      "cell_type": "markdown",
      "metadata": {
        "id": "cTiKejUfE_I1"
      },
      "source": [
        "## Q5.b --- Now include a small change: report for each year the percentage of movies in that year with only female actors, and the total number of movies made that year. For example, one answer will be: 1990 31.81 13522 meaning that in 1990 there were 13,522 movies, and 31.81% had only female actors. You do not need to round your answer."
      ]
    },
    {
      "cell_type": "code",
      "metadata": {
        "id": "Xv6iXvcZE_I2",
        "colab": {
          "base_uri": "https://localhost:8080/",
          "height": 0
        },
        "outputId": "1368091b-272f-4bfc-b96e-40094a656f7d"
      },
      "source": [
        "%%time\n",
        "def grader_5b(q5b):\n",
        "    q5b_results  = pd.read_sql_query(q5b,conn)\n",
        "    print(q5b_results.head(10))\n",
        "    assert (q5b_results.shape == (4,3))\n",
        "\n",
        "query5b = \"\"\" Select A.YEAR, (B.Female_Cast_Only_Movies * 1.0)/sum(A.Total_movies) as Percentage_of_Female_cast_movies , sum(A.Total_movies) as Total_Movies\n",
        "          from\n",
        "          (select CAST(SUBSTR(TRIM(m.year),-4) AS INTEGER) as YEAR, count(mid)  AS Total_movies from Movie m\n",
        "          group by YEAR)A\n",
        "\n",
        "          join\n",
        "\n",
        "          (select CAST(SUBSTR(TRIM(m.year),-4) AS INTEGER) as YEAR, COUNT(mid) AS Female_Cast_Only_Movies from Movie m where mid not in\n",
        "          (select mc.mid from person p\n",
        "          inner join m_cast mc on p.pid = trim(mc.pid) where p.gender = 'Male' group by mc.mid having count(*)>=1) group by YEAR)B\n",
        "\n",
        "          on A.YEAR = B.YEAR  group by A.YEAR\n",
        "          \"\"\" \n",
        "grader_5b(query5b)"
      ],
      "execution_count": 45,
      "outputs": [
        {
          "output_type": "stream",
          "name": "stdout",
          "text": [
            "   YEAR  Percentage_of_Female_cast_movies  Total_Movies\n",
            "0  1939                          0.500000             2\n",
            "1  1999                          0.015152            66\n",
            "2  2000                          0.015625            64\n",
            "3  2018                          0.009615           104\n",
            "CPU times: user 156 ms, sys: 2.5 ms, total: 159 ms\n",
            "Wall time: 160 ms\n"
          ]
        }
      ]
    },
    {
      "cell_type": "markdown",
      "metadata": {
        "id": "d5mvJcHDE_I6"
      },
      "source": [
        "## Q6 --- Find the film(s) with the largest cast. Return the movie title and the size of the cast. By \"cast size\" we mean the number of distinct actors that played in that movie: if an actor played multiple roles, or if it simply occurs multiple times in casts, we still count her/him only once."
      ]
    },
    {
      "cell_type": "code",
      "metadata": {
        "id": "vpr9gGg6E_I7",
        "colab": {
          "base_uri": "https://localhost:8080/",
          "height": 0
        },
        "outputId": "86ffcfdf-330a-4355-b71a-e96102ab9ec7"
      },
      "source": [
        "%%time\n",
        "def grader_6(q6):\n",
        "    q6_results  = pd.read_sql_query(q6,conn)\n",
        "    print(q6_results.head(10))\n",
        "    assert (q6_results.shape == (3473, 2))\n",
        "\n",
        "query6 = \"\"\" SELECT title as Name,Cast_ as Cast from\n",
        "        \n",
        "        (select m.title as title ,\n",
        "        count(distinct(c.PID)) as Cast_ \n",
        "        from Movie m\n",
        "        join M_cast c on c.MID = m.MID \n",
        "        GROUP BY c.MID) order by cast_ desc \"\"\"\n",
        "grader_6(query6)"
      ],
      "execution_count": 46,
      "outputs": [
        {
          "output_type": "stream",
          "name": "stdout",
          "text": [
            "                         Name  Cast\n",
            "0               Ocean's Eight   238\n",
            "1                    Apaharan   233\n",
            "2                        Gold   215\n",
            "3             My Name Is Khan   213\n",
            "4  Captain America: Civil War   191\n",
            "5                    Geostorm   170\n",
            "6                     Striker   165\n",
            "7                        2012   154\n",
            "8                      Pixels   144\n",
            "9       Yamla Pagla Deewana 2   140\n",
            "CPU times: user 189 ms, sys: 15.4 ms, total: 204 ms\n",
            "Wall time: 206 ms\n"
          ]
        }
      ]
    },
    {
      "cell_type": "markdown",
      "metadata": {
        "id": "E6mOLxNgTby6"
      },
      "source": [
        "### Q7 --- A decade is a sequence of 10 consecutive years. \n",
        "### For example, say in your database you have movie information starting from 1931. \n",
        "### the first decade is 1931, 1932, ..., 1940,\n",
        "### the second decade is 1932, 1933, ..., 1941 and so on. \n",
        "### Find the decade D with the largest number of films and the total number of films in D"
      ]
    },
    {
      "cell_type": "code",
      "metadata": {
        "id": "ZfOWt8IW23uE",
        "colab": {
          "base_uri": "https://localhost:8080/",
          "height": 0
        },
        "outputId": "0bd568b3-6768-43f3-edaf-623b10d49190"
      },
      "source": [
        "%%time\n",
        "def grader_7a(q7a):\n",
        "    q7a_results  = pd.read_sql_query(q7a,conn)\n",
        "    print(q7a_results.head(10))\n",
        "    assert (q7a_results.shape == (78, 2))\n",
        "\n",
        "#*** Write a query that computes number of movies in each year ***\n",
        "\n",
        "query7a = \"\"\"  \n",
        "          select CAST(SUBSTR(TRIM(m.year),-4) AS INTEGER) as Movie_Year, Count(MID) as Total_Movies from Movie m group by Movie_Year\n",
        "          \"\"\"\n",
        "grader_7a(query7a)\n",
        "\n",
        "# using the above query, you can write the answer to the given question"
      ],
      "execution_count": 47,
      "outputs": [
        {
          "output_type": "stream",
          "name": "stdout",
          "text": [
            "   Movie_Year  Total_Movies\n",
            "0        1931             1\n",
            "1        1936             3\n",
            "2        1939             2\n",
            "3        1941             1\n",
            "4        1943             1\n",
            "5        1946             2\n",
            "6        1947             2\n",
            "7        1948             3\n",
            "8        1949             3\n",
            "9        1950             2\n",
            "CPU times: user 11.9 ms, sys: 0 ns, total: 11.9 ms\n",
            "Wall time: 12.1 ms\n"
          ]
        }
      ]
    },
    {
      "cell_type": "code",
      "metadata": {
        "id": "sBMzLrIY23uJ",
        "colab": {
          "base_uri": "https://localhost:8080/",
          "height": 0
        },
        "outputId": "9fd7901e-0135-4a74-cefb-1aab2bc7105b"
      },
      "source": [
        "%%time\n",
        "def grader_7b(q7b):\n",
        "    q7b_results  = pd.read_sql_query(q7b,conn)\n",
        "    print(q7b_results.head(10))\n",
        "    assert (q7b_results.shape == (713, 4))\n",
        "\n",
        "#Write a query that will do joining of the above table(7a) with itself \n",
        "#such that you will join with only rows if the second tables year is <= current_year+9 and more than or equal current_year\n",
        "\n",
        "query7b = \"\"\" \n",
        "            SELECT A.Movie_Year as First_year, A.Total_Movies as Movie_list_1, B.Movie_Year as Second_year, B.Total_Movies as Movie_list_2 from\n",
        "            (select CAST(SUBSTR(TRIM(m.year),-4) AS INTEGER) as Movie_Year, Count(MID) as Total_Movies from Movie m group by Movie_Year)A\n",
        "            join\n",
        "            (select CAST(SUBSTR(TRIM(m.year),-4) AS INTEGER) as Movie_Year, Count(MID) as Total_Movies from Movie m group by Movie_Year)B\n",
        "            on A.Movie_Year <= B.Movie_Year and B.Movie_Year <= A.Movie_Year+9\n",
        "          \n",
        "          \n",
        "          \"\"\"\n",
        "grader_7b(query7b)\n",
        "# if you see the below results the first movie year is less than 2nd movie year and \n",
        "# 2nd movie year is less or equal to the first movie year+9\n",
        "\n",
        "# using the above query, you can write the answer to the given question"
      ],
      "execution_count": 48,
      "outputs": [
        {
          "output_type": "stream",
          "name": "stdout",
          "text": [
            "   First_year  Movie_list_1  Second_year  Movie_list_2\n",
            "0        1931             1         1931             1\n",
            "1        1931             1         1936             3\n",
            "2        1931             1         1939             2\n",
            "3        1936             3         1936             3\n",
            "4        1936             3         1939             2\n",
            "5        1936             3         1941             1\n",
            "6        1936             3         1943             1\n",
            "7        1939             2         1939             2\n",
            "8        1939             2         1941             1\n",
            "9        1939             2         1943             1\n",
            "CPU times: user 15.6 ms, sys: 988 µs, total: 16.5 ms\n",
            "Wall time: 18.1 ms\n"
          ]
        }
      ]
    },
    {
      "cell_type": "code",
      "metadata": {
        "id": "NKqbguuqE_JA",
        "colab": {
          "base_uri": "https://localhost:8080/",
          "height": 0
        },
        "outputId": "955976ed-e5be-47b8-a45b-9b971b246ea2"
      },
      "source": [
        "%%time\n",
        "def grader_7(q7):\n",
        "    q7_results  = pd.read_sql_query(q7,conn)\n",
        "    print(q7_results.head(10))\n",
        "    assert (q7_results.shape == (1, 2))\n",
        "\n",
        "query7 = \"\"\" \n",
        "        select count(*) as Total_Movies_in_decade , cast(m1.year as char)||'-'||cast(m1.year+9 as char) as Decade from\n",
        "        (Select distinct(CAST(SUBSTR(YEAR,-4) AS INTEGER)) as year from Movie m)m1\n",
        "        join \n",
        "        (Select CAST(SUBSTR(YEAR,-4) AS INTEGER) as year from Movie m)m2\n",
        "        on m1.year <= m2.year\n",
        "        and m2.year <= m1.year+9 group by m1.year+9 order by count(*) desc limit 1\n",
        "         \"\"\"\n",
        "grader_7(query7)\n",
        "# if you check the output we are printinng all the year in that decade, its fine you can print 2008 or 2008-2017"
      ],
      "execution_count": 49,
      "outputs": [
        {
          "output_type": "stream",
          "name": "stdout",
          "text": [
            "   Total_Movies_in_decade     Decade\n",
            "0                    1203  2008-2017\n",
            "CPU times: user 83.2 ms, sys: 0 ns, total: 83.2 ms\n",
            "Wall time: 95.3 ms\n"
          ]
        }
      ]
    },
    {
      "cell_type": "markdown",
      "metadata": {
        "id": "Jbm3Oy3hT8d9"
      },
      "source": [
        "## Q8 --- Find all the actors that made more movies with Yash Chopra than any other director."
      ]
    },
    {
      "cell_type": "code",
      "metadata": {
        "id": "DZJ7WMrk23uR",
        "colab": {
          "base_uri": "https://localhost:8080/",
          "height": 0
        },
        "outputId": "f0628687-b8b2-47aa-d242-22f3f0cb4b26"
      },
      "source": [
        " %%time\n",
        "def grader_8a(q8a):\n",
        "    q8a_results  = pd.read_sql_query(q8a,conn)\n",
        "    print(q8a_results.head(10))\n",
        "    assert (q8a_results.shape == (73408, 3))\n",
        "  \n",
        "#*** Write a query that will results in number of movies actor-director worked together ***\n",
        "\n",
        "query8a = \"\"\" \n",
        "          Select A.ID AS ACTOR_ID, B.ID AS DIRECTOR_ID, COUNT(*) AS MOVIES_MADE_WITH_DIRECTOR FROM\n",
        "          (SELECT MC.MID AS MID, MC.PID AS ID FROM M_CAST MC JOIN PERSON P ON TRIM(MC.PID) = P.PID)A\n",
        "          JOIN\n",
        "          (SELECT MD.MID AS MID, MD.PID AS ID FROM M_DIRECTOR MD JOIN PERSON P ON TRIM(MD.PID) = P.PID)B\n",
        "          ON A.MID = B.MID GROUP BY ACTOR_ID, DIRECTOR_ID\n",
        "\n",
        "          \"\"\"\n",
        "grader_8a(query8a)\n",
        "\n",
        "# using the above query, you can write the answer to the given question"
      ],
      "execution_count": 50,
      "outputs": [
        {
          "output_type": "stream",
          "name": "stdout",
          "text": [
            "     ACTOR_ID DIRECTOR_ID  MOVIES_MADE_WITH_DIRECTOR\n",
            "0   nm0000002   nm0496746                          1\n",
            "1   nm0000027   nm0000180                          1\n",
            "2   nm0000039   nm0896533                          1\n",
            "3   nm0000042   nm0896533                          1\n",
            "4   nm0000047   nm0004292                          1\n",
            "5   nm0000073   nm0485943                          1\n",
            "6   nm0000076   nm0000229                          1\n",
            "7   nm0000092   nm0178997                          1\n",
            "8   nm0000093   nm0000269                          1\n",
            "9   nm0000096   nm0113819                          1\n",
            "CPU times: user 478 ms, sys: 16.3 ms, total: 494 ms\n",
            "Wall time: 494 ms\n"
          ]
        }
      ]
    },
    {
      "cell_type": "code",
      "metadata": {
        "id": "SYMTcHixE_JH",
        "colab": {
          "base_uri": "https://localhost:8080/",
          "height": 0
        },
        "outputId": "24128f88-033a-485d-f930-30d4725dc212"
      },
      "source": [
        "%%time\n",
        "\n",
        "def grader_8(q8):\n",
        "    q8_results  = pd.read_sql_query(q8,conn)\n",
        "    print(q8_results.head(10))\n",
        "    print(q8_results.shape)\n",
        "    assert (q8_results.shape == (245, 2))\n",
        "\n",
        "#*** Write a query that answers the 8th question ***\n",
        "\n",
        "query8 = \"\"\"SELECT TRIM(Q1.ACTOR_ID) as ACTOR, Q1.MOVIES_MADE FROM\n",
        "(Select A.ID AS ACTOR_ID, B.ID AS DIRECTOR_ID, COUNT(*) AS MOVIES_MADE FROM\n",
        "(SELECT MC.MID AS MID, MC.PID AS ID FROM M_CAST MC JOIN PERSON P ON TRIM(MC.PID) = P.PID)A\n",
        "JOIN\n",
        "(SELECT MD.MID AS MID, MD.PID AS ID FROM M_DIRECTOR MD JOIN PERSON P ON TRIM(MD.PID) = P.PID)B\n",
        "ON A.MID = B.MID GROUP BY ACTOR_ID, DIRECTOR_ID)Q1\n",
        "\n",
        "WHERE (Q1.ACTOR_ID, Q1.MOVIES_MADE)IN \n",
        "\n",
        "\n",
        "(SELECT Q2.ACTOR_ID, MAX(MOVIES_MADE) FROM\n",
        "(Select A.ID AS ACTOR_ID, B.ID AS DIRECTOR_ID, COUNT(*) AS MOVIES_MADE FROM\n",
        "(SELECT MC.MID AS MID, MC.PID AS ID FROM M_CAST MC JOIN PERSON P ON TRIM(MC.PID) = P.PID)A\n",
        "JOIN\n",
        "(SELECT MD.MID AS MID, MD.PID AS ID FROM M_DIRECTOR MD JOIN PERSON P ON TRIM(MD.PID) = P.PID)B\n",
        "ON A.MID = B.MID GROUP BY ACTOR_ID, DIRECTOR_ID)Q2\n",
        "GROUP BY Q2.ACTOR_ID)\n",
        "\n",
        "AND Q1.DIRECTOR_ID = 'nm0007181'\n",
        "\n",
        "ORDER BY MOVIES_MADE DESC\n",
        "\n",
        "\n",
        "\n",
        "\n",
        "\n",
        "\n",
        "\n",
        "\n",
        "\n",
        "\n",
        "\n",
        " \"\"\"\n",
        "grader_8(query8)"
      ],
      "execution_count": 51,
      "outputs": [
        {
          "output_type": "stream",
          "name": "stdout",
          "text": [
            "       ACTOR  MOVIES_MADE\n",
            "0  nm0707271           11\n",
            "1  nm0471443           10\n",
            "2  nm0407002            9\n",
            "3  nm0004434            7\n",
            "4  nm0347901            5\n",
            "5  nm0716851            5\n",
            "6  nm0433945            4\n",
            "7  nm0755087            4\n",
            "8  nm0802183            4\n",
            "9  nm0158332            3\n",
            "(245, 2)\n",
            "CPU times: user 620 ms, sys: 13.2 ms, total: 633 ms\n",
            "Wall time: 639 ms\n"
          ]
        }
      ]
    },
    {
      "cell_type": "code",
      "metadata": {
        "colab": {
          "base_uri": "https://localhost:8080/",
          "height": 0
        },
        "id": "p3fK-Xkl3uj_",
        "outputId": "67e424e6-7a17-4282-a8e8-cff21ba77bb3"
      },
      "source": [
        "q8 = \"\"\"\n",
        "     SELECT TRIM(Q1.ACTOR_ID), Q1.MOVIES_MADE FROM\n",
        "(Select A.ID AS ACTOR_ID, B.ID AS DIRECTOR_ID, COUNT(*) AS MOVIES_MADE FROM\n",
        "(SELECT MC.MID AS MID, MC.PID AS ID FROM M_CAST MC JOIN PERSON P ON TRIM(MC.PID) = P.PID)A\n",
        "JOIN\n",
        "(SELECT MD.MID AS MID, MD.PID AS ID FROM M_DIRECTOR MD JOIN PERSON P ON TRIM(MD.PID) = P.PID)B\n",
        "ON A.MID = B.MID GROUP BY ACTOR_ID, DIRECTOR_ID)Q1\n",
        "\n",
        "WHERE (Q1.ACTOR_ID, Q1.MOVIES_MADE)IN \n",
        "\n",
        "\n",
        "(SELECT Q2.ACTOR_ID, MAX(MOVIES_MADE) FROM\n",
        "(Select A.ID AS ACTOR_ID, B.ID AS DIRECTOR_ID, COUNT(*) AS MOVIES_MADE FROM\n",
        "(SELECT MC.MID AS MID, MC.PID AS ID FROM M_CAST MC JOIN PERSON P ON TRIM(MC.PID) = P.PID)A\n",
        "JOIN\n",
        "(SELECT MD.MID AS MID, MD.PID AS ID FROM M_DIRECTOR MD JOIN PERSON P ON TRIM(MD.PID) = P.PID)B\n",
        "ON A.MID = B.MID GROUP BY ACTOR_ID, DIRECTOR_ID)Q2\n",
        "GROUP BY Q2.ACTOR_ID)\n",
        "\n",
        "AND Q1.DIRECTOR_ID = 'nm0007181'\n",
        "\n",
        "ORDER BY MOVIES_MADE DESC\n",
        "\"\"\"\n",
        "\n",
        "q8_results  = pd.read_sql_query(q8,conn)\n",
        "print(q8_results)\n"
      ],
      "execution_count": 52,
      "outputs": [
        {
          "output_type": "stream",
          "name": "stdout",
          "text": [
            "    TRIM(Q1.ACTOR_ID)  MOVIES_MADE\n",
            "0           nm0707271           11\n",
            "1           nm0471443           10\n",
            "2           nm0407002            9\n",
            "3           nm0004434            7\n",
            "4           nm0347901            5\n",
            "..                ...          ...\n",
            "240         nm7150152            1\n",
            "241         nm7624361            1\n",
            "242         nm7768629            1\n",
            "243         nm8533115            1\n",
            "244         nm8737993            1\n",
            "\n",
            "[245 rows x 2 columns]\n"
          ]
        }
      ]
    },
    {
      "cell_type": "markdown",
      "metadata": {
        "id": "2j8Fc9jUUJ9C"
      },
      "source": [
        "## Q9 --- The Shahrukh number of an actor is the length of the shortest path between the actor and Shahrukh Khan in the \"co-acting\" graph. That is, Shahrukh Khan has Shahrukh number 0; all actors who acted in the same film as Shahrukh have Shahrukh number 1; all actors who acted in the same film as some actor with Shahrukh number 1 have Shahrukh number 2, etc. Return all actors whose Shahrukh number is 2."
      ]
    },
    {
      "cell_type": "code",
      "metadata": {
        "id": "3FnJ_19z23ub",
        "colab": {
          "base_uri": "https://localhost:8080/",
          "height": 0
        },
        "outputId": "1090fc2f-fe14-407a-b08a-2f0288534995"
      },
      "source": [
        "%%time\n",
        "def grader_9a(q9a):\n",
        "    q9a_results  = pd.read_sql_query(q9a,conn)\n",
        "    print(q9a_results.head(10))\n",
        "    print(q9a_results.shape)\n",
        "    assert (q9a_results.shape == (2382, 1))\n",
        "\n",
        "#Actors with shahrukh number 1\n",
        "\n",
        "query9a = \"\"\" SELECT DISTINCT PID\n",
        "  FROM M_CAST\n",
        " WHERE MID IN (\n",
        "           SELECT TRIM(MID) \n",
        "             FROM M_CAST\n",
        "            WHERE TRIM(PID) IN (\n",
        "                      SELECT TRIM(PID) \n",
        "                        FROM PERSON P\n",
        "                       WHERE TRIM(NAME) LIKE '%Shah Rukh Khan%'\n",
        "                  )\n",
        "       )\n",
        "AND \n",
        "       TRIM(PID) NOT IN (\n",
        "           SELECT PID\n",
        "             FROM PERSON P\n",
        "            WHERE TRIM(NAME) LIKE '%Shah Rukh Khan%'\n",
        "       );\n",
        "\"\"\"\n",
        "grader_9a(query9a)\n",
        "# using the above query, you can write the answer to the given question\n",
        "\n",
        "# selecting actors who acted with srk (S1)\n",
        "# selecting all movies where S1 actors acted, this forms S2 movies list\n",
        "# selecting all actors who acted in S2 movies, this gives us S2 actors along with S1 actors\n",
        "# removing S1 actors from the combined list of S1 & S2 actors, so that we get only S2 actors"
      ],
      "execution_count": 53,
      "outputs": [
        {
          "output_type": "stream",
          "name": "stdout",
          "text": [
            "          PID\n",
            "0   nm0004418\n",
            "1   nm1995953\n",
            "2   nm2778261\n",
            "3   nm0631373\n",
            "4   nm0241935\n",
            "5   nm0792116\n",
            "6   nm1300111\n",
            "7   nm0196375\n",
            "8   nm1464837\n",
            "9   nm2868019\n",
            "(2382, 1)\n",
            "CPU times: user 61.9 ms, sys: 1.48 ms, total: 63.4 ms\n",
            "Wall time: 65 ms\n"
          ]
        }
      ]
    },
    {
      "cell_type": "code",
      "metadata": {
        "id": "5o6imc82E_JS",
        "colab": {
          "base_uri": "https://localhost:8080/",
          "height": 0
        },
        "outputId": "1ccf9759-fc1f-4fec-fd28-a86a7523aaed"
      },
      "source": [
        "%%time\n",
        "def grader_9(q9):\n",
        "    q9_results  = pd.read_sql_query(q9,conn)\n",
        "    print(q9_results.head(10))\n",
        "    print(q9_results.shape)\n",
        "    assert (q9_results.shape == (25698, 1))\n",
        "\n",
        "query9 = \"\"\" SELECT P.NAME FROM PERSON P WHERE PID IN \n",
        "(\n",
        "SELECT DISTINCT TRIM(PID) AS ACTOR FROM M_CAST WHERE MID IN   \n",
        "    (SELECT DISTINCT MID FROM M_CAST WHERE TRIM(PID) IN     \n",
        "        (SELECT DISTINCT TRIM(PID) FROM M_CAST WHERE MID IN \n",
        "            (SELECT TRIM(MID) FROM M_CAST WHERE TRIM(PID) IN \n",
        "                (SELECT TRIM(PID) FROM PERSON P WHERE TRIM(NAME) LIKE '%Shah Rukh Khan%'))\n",
        "            AND TRIM(PID) NOT IN \n",
        "                (SELECT PID FROM PERSON P WHERE TRIM(NAME) LIKE '%Shah Rukh Khan%'))) AND  ACTOR!='nm0451321'\n",
        "except\n",
        "\n",
        "SELECT DISTINCT TRIM(PID) FROM M_CAST WHERE MID IN \n",
        "            (SELECT TRIM(MID) FROM M_CAST WHERE TRIM(PID) IN \n",
        "                (SELECT TRIM(PID) FROM PERSON P WHERE TRIM(NAME) LIKE '%Shah Rukh Khan%'))\n",
        "            AND TRIM(PID) NOT IN \n",
        "                (SELECT PID FROM PERSON P WHERE TRIM(NAME) LIKE '%Shah Rukh Khan%')\n",
        ")\"\"\"\n",
        "grader_9(query9)"
      ],
      "execution_count": 54,
      "outputs": [
        {
          "output_type": "stream",
          "name": "stdout",
          "text": [
            "                     Name\n",
            "0            Freida Pinto\n",
            "1             Rohan Chand\n",
            "2            Damian Young\n",
            "3         Waris Ahluwalia\n",
            "4   Caroline Christl Long\n",
            "5           Rajeev Pahuja\n",
            "6       Michelle Santiago\n",
            "7         Alicia Vikander\n",
            "8            Dominic West\n",
            "9          Walton Goggins\n",
            "(25698, 1)\n",
            "CPU times: user 321 ms, sys: 18.6 ms, total: 340 ms\n",
            "Wall time: 338 ms\n"
          ]
        }
      ]
    },
    {
      "cell_type": "code",
      "metadata": {
        "id": "cpeRsQlMRD9f"
      },
      "source": [
        ""
      ],
      "execution_count": 54,
      "outputs": []
    }
  ]
}